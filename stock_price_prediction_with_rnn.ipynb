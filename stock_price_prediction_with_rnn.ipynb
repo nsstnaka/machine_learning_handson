{
  "nbformat": 4,
  "nbformat_minor": 0,
  "metadata": {
    "colab": {
      "name": "stock_price_prediction_with_rnn.ipynb",
      "provenance": [],
      "collapsed_sections": [],
      "include_colab_link": true
    },
    "kernelspec": {
      "name": "python3",
      "display_name": "Python 3"
    },
    "accelerator": "GPU"
  },
  "cells": [
    {
      "cell_type": "markdown",
      "metadata": {
        "id": "view-in-github",
        "colab_type": "text"
      },
      "source": [
        "<a href=\"https://colab.research.google.com/github/nsstnaka/machine_learning_handson/blob/master/stock_price_prediction_with_rnn.ipynb\" target=\"_parent\"><img src=\"https://colab.research.google.com/assets/colab-badge.svg\" alt=\"Open In Colab\"/></a>"
      ]
    },
    {
      "cell_type": "markdown",
      "metadata": {
        "id": "dB-2dzybyjDo",
        "colab_type": "text"
      },
      "source": [
        "# ディープラーニングによる株価予測\n",
        "\n",
        "直近50営業日の4本値＋出来高をもとに、終値を予想します。\n"
      ]
    },
    {
      "cell_type": "markdown",
      "metadata": {
        "id": "1YzfJsgQy0gb",
        "colab_type": "text"
      },
      "source": [
        "## 前準備"
      ]
    },
    {
      "cell_type": "markdown",
      "metadata": {
        "id": "_vlVNVP1yxQS",
        "colab_type": "text"
      },
      "source": [
        "ライブラリのimport"
      ]
    },
    {
      "cell_type": "code",
      "metadata": {
        "id": "Ju-bzQG0BqFn",
        "colab_type": "code",
        "colab": {}
      },
      "source": [
        "import pandas as pd\n",
        "import pandas_datareader as pdr\n",
        "import numpy as np\n",
        "import tensorflow as tf\n",
        "import seaborn as sns\n",
        "import matplotlib.pyplot as plt"
      ],
      "execution_count": null,
      "outputs": []
    },
    {
      "cell_type": "markdown",
      "metadata": {
        "id": "6UcT3JwZy3Bt",
        "colab_type": "text"
      },
      "source": [
        "TensorFlowのバージョン確認"
      ]
    },
    {
      "cell_type": "code",
      "metadata": {
        "id": "vMyMIUV9FmAX",
        "colab_type": "code",
        "colab": {}
      },
      "source": [
        "tf.__version__"
      ],
      "execution_count": null,
      "outputs": []
    },
    {
      "cell_type": "markdown",
      "metadata": {
        "id": "cLUsl2sNy8ji",
        "colab_type": "text"
      },
      "source": [
        "## 株価取得"
      ]
    },
    {
      "cell_type": "code",
      "metadata": {
        "id": "41XFYO2yCCQy",
        "colab_type": "code",
        "colab": {}
      },
      "source": [
        "df = pdr.data.DataReader('^DJI', 'yahoo', '2017-04-01', '2020-03-31')  # '^DJI'の部分を変えると違う株価を拾える（例：AAPL, GOOG）\n",
        "df.reset_index(inplace=True)  # 後続処理のためインデックスを振りなおす\n",
        "df.head(10)"
      ],
      "execution_count": null,
      "outputs": []
    },
    {
      "cell_type": "markdown",
      "metadata": {
        "id": "kfpSLuyxzCKm",
        "colab_type": "text"
      },
      "source": [
        "可視化"
      ]
    },
    {
      "cell_type": "code",
      "metadata": {
        "id": "Ur95sRLbC17T",
        "colab_type": "code",
        "colab": {}
      },
      "source": [
        "df.plot(x='Date', y=['Close'])"
      ],
      "execution_count": null,
      "outputs": []
    },
    {
      "cell_type": "markdown",
      "metadata": {
        "id": "cgGSd_XWzFET",
        "colab_type": "text"
      },
      "source": [
        "統計情報"
      ]
    },
    {
      "cell_type": "code",
      "metadata": {
        "id": "RCkiN0zfjqpa",
        "colab_type": "code",
        "colab": {}
      },
      "source": [
        "df.describe()"
      ],
      "execution_count": null,
      "outputs": []
    },
    {
      "cell_type": "markdown",
      "metadata": {
        "id": "f6FccDeWzLtQ",
        "colab_type": "text"
      },
      "source": [
        "## 前処理"
      ]
    },
    {
      "cell_type": "markdown",
      "metadata": {
        "id": "PJB3Og9MzM30",
        "colab_type": "text"
      },
      "source": [
        "4本値＋出来高の抽出"
      ]
    },
    {
      "cell_type": "code",
      "metadata": {
        "id": "D3OmDjJ5uVGl",
        "colab_type": "code",
        "colab": {}
      },
      "source": [
        "features = df[['High', 'Low', 'Open', 'Close', 'Volume']].values\n",
        "features"
      ],
      "execution_count": null,
      "outputs": []
    },
    {
      "cell_type": "markdown",
      "metadata": {
        "id": "SDtOJMUnzWsG",
        "colab_type": "text"
      },
      "source": [
        "正規化"
      ]
    },
    {
      "cell_type": "code",
      "metadata": {
        "id": "vs3oI5XwjP2c",
        "colab_type": "code",
        "colab": {}
      },
      "source": [
        "from sklearn.preprocessing import MinMaxScaler\n",
        "scaler = MinMaxScaler()\n",
        "features_scaled = scaler.fit_transform(features)\n",
        "features_scaled"
      ],
      "execution_count": null,
      "outputs": []
    },
    {
      "cell_type": "markdown",
      "metadata": {
        "id": "Fe-PQEuXzlga",
        "colab_type": "text"
      },
      "source": [
        "時系列データおよびラベルの作成"
      ]
    },
    {
      "cell_type": "code",
      "metadata": {
        "id": "K9TEvclA30gf",
        "colab_type": "code",
        "colab": {}
      },
      "source": [
        "N = 50\n",
        "all_xs = []\n",
        "all_ys = []\n",
        "for idx in range(len(features_scaled)):\n",
        "    if idx < N:\n",
        "        continue\n",
        "    all_xs.append(features_scaled[idx-N:idx, :])  # 直近N営業日のHigh, Low, Open, Close, Volume\n",
        "    all_ys.append(features_scaled[idx, 3])  # 当日のClose\n",
        "all_xs = np.array(all_xs)\n",
        "all_ys = np.array(all_ys)"
      ],
      "execution_count": null,
      "outputs": []
    },
    {
      "cell_type": "markdown",
      "metadata": {
        "id": "Xeh0t5Yqz-So",
        "colab_type": "text"
      },
      "source": [
        "できたデータのshapeを確認"
      ]
    },
    {
      "cell_type": "code",
      "metadata": {
        "id": "v1kltHfs36k8",
        "colab_type": "code",
        "colab": {}
      },
      "source": [
        "all_xs.shape"
      ],
      "execution_count": null,
      "outputs": []
    },
    {
      "cell_type": "code",
      "metadata": {
        "id": "RUpnoTLt6Ruk",
        "colab_type": "code",
        "colab": {}
      },
      "source": [
        "all_ys.shape"
      ],
      "execution_count": null,
      "outputs": []
    },
    {
      "cell_type": "markdown",
      "metadata": {
        "id": "2FoB15qp0CU2",
        "colab_type": "text"
      },
      "source": [
        "訓練データとテストデータに分割\n",
        "（最新の100営業日分をテストデータにし、残りを訓練データにする）"
      ]
    },
    {
      "cell_type": "code",
      "metadata": {
        "id": "PupwIgzI6gFt",
        "colab_type": "code",
        "colab": {}
      },
      "source": [
        "test_num = 100\n",
        "train_xs = all_xs[:-test_num]\n",
        "train_ys = all_ys[:-test_num]\n",
        "test_xs = all_xs[-test_num:]\n",
        "test_ys = all_ys[-test_num:]"
      ],
      "execution_count": null,
      "outputs": []
    },
    {
      "cell_type": "code",
      "metadata": {
        "id": "kB63v2c06ikq",
        "colab_type": "code",
        "colab": {}
      },
      "source": [
        "print(train_xs.shape, train_ys.shape, test_xs.shape, test_ys.shape)"
      ],
      "execution_count": null,
      "outputs": []
    },
    {
      "cell_type": "markdown",
      "metadata": {
        "id": "ZPN3f14z0PFC",
        "colab_type": "text"
      },
      "source": [
        "## 学習と評価"
      ]
    },
    {
      "cell_type": "markdown",
      "metadata": {
        "id": "NewtrmD50SPM",
        "colab_type": "text"
      },
      "source": [
        "### (1) 1層のRNN"
      ]
    },
    {
      "cell_type": "markdown",
      "metadata": {
        "id": "vK-vin0_0Y8D",
        "colab_type": "text"
      },
      "source": [
        "モデル構築"
      ]
    },
    {
      "cell_type": "code",
      "metadata": {
        "id": "en2xtln16lDe",
        "colab_type": "code",
        "colab": {}
      },
      "source": [
        "model = tf.keras.models.Sequential([\n",
        "    tf.keras.layers.LSTM(128, input_shape=(N, train_xs.shape[2])),\n",
        "#   tf.keras.layers.GRU(128, input_shape=(N, 1)),\n",
        "#    tf.keras.layers.SimpleRNN(128, input_shape=(N, 1)),\n",
        "    tf.keras.layers.Dense(1)\n",
        "])"
      ],
      "execution_count": null,
      "outputs": []
    },
    {
      "cell_type": "code",
      "metadata": {
        "id": "xKmhUFwj6oLl",
        "colab_type": "code",
        "colab": {}
      },
      "source": [
        "model.compile(optimizer='adam', loss='mean_squared_error')"
      ],
      "execution_count": null,
      "outputs": []
    },
    {
      "cell_type": "markdown",
      "metadata": {
        "id": "MeKnm8R_0agU",
        "colab_type": "text"
      },
      "source": [
        "モデル確認"
      ]
    },
    {
      "cell_type": "code",
      "metadata": {
        "id": "TYn01jKs6qUq",
        "colab_type": "code",
        "colab": {}
      },
      "source": [
        "model.summary()"
      ],
      "execution_count": null,
      "outputs": []
    },
    {
      "cell_type": "markdown",
      "metadata": {
        "id": "EVm1zvBq0cn1",
        "colab_type": "text"
      },
      "source": [
        "学習"
      ]
    },
    {
      "cell_type": "code",
      "metadata": {
        "id": "Zuk4B6st6r6G",
        "colab_type": "code",
        "colab": {}
      },
      "source": [
        "model.fit(x=train_xs, y=train_ys, batch_size=8, epochs=50)"
      ],
      "execution_count": null,
      "outputs": []
    },
    {
      "cell_type": "markdown",
      "metadata": {
        "id": "FJGrBnsi0efS",
        "colab_type": "text"
      },
      "source": [
        "評価"
      ]
    },
    {
      "cell_type": "code",
      "metadata": {
        "id": "yY5NgUUr6uIn",
        "colab_type": "code",
        "colab": {}
      },
      "source": [
        "pred = model.predict(x=test_xs)\n",
        "pred = pred / scaler.scale_[3] + scaler.data_min_[3]\n",
        "test_df = pd.DataFrame(pred, columns=['predict'])\n",
        "test_df['actual'] = test_ys / scaler.scale_[3] + scaler.data_min_[3]\n",
        "test_df.plot()"
      ],
      "execution_count": null,
      "outputs": []
    },
    {
      "cell_type": "markdown",
      "metadata": {
        "id": "ESC4bRl70hSE",
        "colab_type": "text"
      },
      "source": [
        "### 2層のRNN（ドロップアウト付）"
      ]
    },
    {
      "cell_type": "markdown",
      "metadata": {
        "id": "ez80KRfY0rLE",
        "colab_type": "text"
      },
      "source": [
        "モデル構築"
      ]
    },
    {
      "cell_type": "code",
      "metadata": {
        "id": "mmbPu7_l69i2",
        "colab_type": "code",
        "colab": {}
      },
      "source": [
        "model = tf.keras.models.Sequential([\n",
        "    tf.keras.layers.LSTM(128, input_shape=(N, train_xs.shape[2]), return_sequences=True),\n",
        "#   tf.keras.layers.GRU(128, input_shape=(N, 1)),\n",
        "#    tf.keras.layers.SimpleRNN(128, input_shape=(N, 1)),\n",
        "    tf.keras.layers.Dropout(0.5),\n",
        "    tf.keras.layers.LSTM(128),\n",
        "    tf.keras.layers.Dropout(0.5),\n",
        "    tf.keras.layers.Dense(1)\n",
        "])"
      ],
      "execution_count": null,
      "outputs": []
    },
    {
      "cell_type": "code",
      "metadata": {
        "id": "BefT4ox4Bx4L",
        "colab_type": "code",
        "colab": {}
      },
      "source": [
        "model.compile(optimizer='adam', loss='mean_squared_error')"
      ],
      "execution_count": null,
      "outputs": []
    },
    {
      "cell_type": "markdown",
      "metadata": {
        "id": "EXiLr9xX0xDL",
        "colab_type": "text"
      },
      "source": [
        "モデル確認"
      ]
    },
    {
      "cell_type": "code",
      "metadata": {
        "id": "_FpBwufUCMXq",
        "colab_type": "code",
        "colab": {}
      },
      "source": [
        "model.summary()"
      ],
      "execution_count": null,
      "outputs": []
    },
    {
      "cell_type": "markdown",
      "metadata": {
        "id": "aVXZZ-Rm0yp1",
        "colab_type": "text"
      },
      "source": [
        "学習"
      ]
    },
    {
      "cell_type": "code",
      "metadata": {
        "id": "uq32nzisCO4I",
        "colab_type": "code",
        "colab": {}
      },
      "source": [
        "model.fit(x=train_xs, y=train_ys, batch_size=8, epochs=50)"
      ],
      "execution_count": null,
      "outputs": []
    },
    {
      "cell_type": "markdown",
      "metadata": {
        "id": "Ko71HTAY00XT",
        "colab_type": "text"
      },
      "source": [
        "評価"
      ]
    },
    {
      "cell_type": "code",
      "metadata": {
        "id": "3PmfVPklCTAy",
        "colab_type": "code",
        "colab": {}
      },
      "source": [
        "pred = model.predict(x=test_xs)\n",
        "pred = pred / scaler.scale_[3] + scaler.data_min_[3]\n",
        "test_df = pd.DataFrame(pred, columns=['predict'])\n",
        "test_df['actual'] = test_ys / scaler.scale_[3] + scaler.data_min_[3]\n",
        "test_df.plot()"
      ],
      "execution_count": null,
      "outputs": []
    }
  ]
}