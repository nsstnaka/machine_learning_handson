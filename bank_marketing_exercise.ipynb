{
  "nbformat": 4,
  "nbformat_minor": 0,
  "metadata": {
    "colab": {
      "name": "bank_marketing_exercise.ipynb",
      "version": "0.3.2",
      "provenance": [],
      "collapsed_sections": []
    },
    "kernelspec": {
      "name": "python3",
      "display_name": "Python 3"
    },
    "accelerator": "GPU"
  },
  "cells": [
    {
      "cell_type": "markdown",
      "metadata": {
        "id": "AM1EK0o_Q1kp",
        "colab_type": "text"
      },
      "source": [
        "# 機械学習ハンズオン　練習問題3：銀行のキャンペーン申込予測\n",
        "\n",
        "[UCIのbank marketingデータセット](https://archive.ics.uci.edu/ml/datasets/Bank+Marketing)を使って、顧客属性、過去のコンタクト履歴および市況情報を基に、顧客が定期預金に申し込んでくれるかどうかを予測します。\n"
      ]
    },
    {
      "cell_type": "markdown",
      "metadata": {
        "id": "u0ABL69cV9Dv",
        "colab_type": "text"
      },
      "source": [
        "【課題】\n",
        "\n",
        " 1. 混同行列(Confusion Matrix)を算出してください。\n",
        " 1. 適合率(Precision)、再現率(Recall)、F1値(F1-score)を算出してください。\n",
        " \n",
        "【ヒント】\n",
        "\n",
        " * 混同行列\n",
        " \n",
        "| | 予測：正 | 予測：負 |\n",
        "| --- | :---: | :---: |\n",
        "| 正解：正 | True Positive (TP) | False Negative (FN) |\n",
        "| 正解：負 | False Positive (FP) | True Negative (TN) | \n",
        "\n",
        " * 適合率、再現率、F値の計算\n",
        "   * $ Precision = \\frac{TP}{TP+FP} $\n",
        "   * $ Recall = \\frac{TP}{TP+FN} $\n",
        "   * $ F_1 = \\frac{2PR}{P+R} $ ※P:Precision, R:Recall\n",
        "\n",
        " * [sklearn.metricsパッケージ](https://scikit-learn.org/stable/modules/classes.html#sklearn-metrics-metrics)を参照"
      ]
    },
    {
      "cell_type": "markdown",
      "metadata": {
        "id": "XC-B2Fs1WAhP",
        "colab_type": "text"
      },
      "source": [
        "【注意点】\n",
        "\n",
        "ラベルの偏りに注意してください。預金の申込をしなかった人が9割近くを占めています。"
      ]
    },
    {
      "cell_type": "markdown",
      "metadata": {
        "id": "HpuBAz06fz5A",
        "colab_type": "text"
      },
      "source": [
        "## 前準備"
      ]
    },
    {
      "cell_type": "code",
      "metadata": {
        "id": "lHBju_GQQU5Y",
        "colab_type": "code",
        "colab": {}
      },
      "source": [
        "# ここで必要なimportを行ってください。\n",
        "import pandas as pd\n",
        "import tensorflow as tf\n",
        "import numpy as np\n",
        "import matplotlib.pyplot as plt\n",
        "import seaborn as sns\n",
        "from sklearn.model_selection import train_test_split\n",
        "from sklearn.preprocessing import MinMaxScaler, StandardScaler"
      ],
      "execution_count": 0,
      "outputs": []
    },
    {
      "cell_type": "markdown",
      "metadata": {
        "id": "wUmKXKdHTI8-",
        "colab_type": "text"
      },
      "source": [
        "### データセットファイルの取得（zipの展開）"
      ]
    },
    {
      "cell_type": "code",
      "metadata": {
        "id": "qqciUmMGRuzO",
        "colab_type": "code",
        "colab": {}
      },
      "source": [
        "!wget https://archive.ics.uci.edu/ml/machine-learning-databases/00222/bank.zip\n",
        "!unzip -o bank.zip"
      ],
      "execution_count": 0,
      "outputs": []
    },
    {
      "cell_type": "markdown",
      "metadata": {
        "id": "beHBPzKvWm5Q",
        "colab_type": "text"
      },
      "source": [
        "### データセットの読込み\n",
        "\n",
        "データセットの説明に従って、 `duration` は外します。\n",
        "\n",
        "> Important note: this attribute highly affects the output target (e.g., if duration=0 then y='no'). Yet, the duration is not known before a call is performed. Also, after the end of the call y is obviously known. Thus, this input should only be included for benchmark purposes and should be discarded if the intention is to have a realistic predictive model.\n"
      ]
    },
    {
      "cell_type": "code",
      "metadata": {
        "id": "X_FM0rS8SsSA",
        "colab_type": "code",
        "colab": {}
      },
      "source": [
        "df = pd.read_csv('bank.csv', sep=';')\n",
        "df = df.drop(['duration'], axis=1)"
      ],
      "execution_count": 0,
      "outputs": []
    }
  ]
}