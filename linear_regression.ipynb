{
  "nbformat": 4,
  "nbformat_minor": 0,
  "metadata": {
    "colab": {
      "name": "linear_regression.ipynb",
      "version": "0.3.2",
      "provenance": [],
      "collapsed_sections": [],
      "include_colab_link": true
    },
    "kernelspec": {
      "name": "python3",
      "display_name": "Python 3"
    },
    "accelerator": "GPU"
  },
  "cells": [
    {
      "cell_type": "markdown",
      "metadata": {
        "id": "view-in-github",
        "colab_type": "text"
      },
      "source": [
        "<a href=\"https://colab.research.google.com/github/tnaka78/machine_learning_handson/blob/master/linear_regression.ipynb\" target=\"_parent\"><img src=\"https://colab.research.google.com/assets/colab-badge.svg\" alt=\"Open In Colab\"/></a>"
      ]
    },
    {
      "metadata": {
        "id": "cyvbwzrSDgG9",
        "colab_type": "text"
      },
      "cell_type": "markdown",
      "source": [
        "# 機械学習ハンズオン（線形回帰編）"
      ]
    },
    {
      "metadata": {
        "id": "CmEt2huHDgG2",
        "colab_type": "text"
      },
      "cell_type": "markdown",
      "source": [
        "## 事前準備（ライブラリのロード）"
      ]
    },
    {
      "metadata": {
        "id": "dCmc-hTVDgG4",
        "colab_type": "code",
        "colab": {}
      },
      "cell_type": "code",
      "source": [
        "import tensorflow as tf\n",
        "import matplotlib.pyplot as plt\n",
        "import numpy as np"
      ],
      "execution_count": 0,
      "outputs": []
    },
    {
      "metadata": {
        "id": "oGytAnEjErpo",
        "colab_type": "text"
      },
      "cell_type": "markdown",
      "source": [
        "## 単回帰分析"
      ]
    },
    {
      "metadata": {
        "id": "KysuH99PDgG_",
        "colab_type": "text"
      },
      "cell_type": "markdown",
      "source": [
        "【課題】賃貸アパートの家賃を予測してみましょう。徒歩10分では家賃はいくらでしょうか？\n",
        "\n",
        "| 駅からの時間（分） | 家賃（万円）|\n",
        "| ---: | ---: |\n",
        "| 1 | 8.02 |\n",
        "| 2 | 7.75 |\n",
        "| 3 | 7.63 |\n",
        "| 4 | 7.47 |\n",
        "| 5 | 7.09 |\n",
        "| 6 | 7.01 |\n",
        "| 7 | 6.75 |\n",
        "| 8 | 6.65 |\n",
        "| 9 | 6.39 |\n",
        "|**10** | **????**|\n"
      ]
    },
    {
      "metadata": {
        "id": "CHRuVbNKlEyU",
        "colab_type": "text"
      },
      "cell_type": "markdown",
      "source": [
        "### データの作成\n",
        "\n",
        "まず、numpyでデータを作ります。"
      ]
    },
    {
      "metadata": {
        "id": "0TygU2AujFc1",
        "colab_type": "code",
        "colab": {}
      },
      "cell_type": "code",
      "source": [
        "xs = np.array([1.0, 2.0, 3.0, 4.0, 5.0, 6.0, 7.0, 8.0, 9.0], dtype=np.float)\n",
        "ys = np.array([8.02, 7.75, 7.63, 7.47, 7.09, 7.01, 6.75, 6.65, 6.39], dtype=np.float)"
      ],
      "execution_count": 0,
      "outputs": []
    },
    {
      "metadata": {
        "id": "0Fpax8G1lLXy",
        "colab_type": "text"
      },
      "cell_type": "markdown",
      "source": [
        "これを散布図にしてみましょう。赤い点線のような関係が見えてくるかと思います。"
      ]
    },
    {
      "metadata": {
        "id": "VkB_Renmi10X",
        "colab_type": "code",
        "colab": {}
      },
      "cell_type": "code",
      "source": [
        "%matplotlib inline\n",
        "plt.plot([0.0, 9.0], [8.2, 6.4], color='r', ls=':')\n",
        "plt.scatter(xs, ys)"
      ],
      "execution_count": 0,
      "outputs": []
    },
    {
      "metadata": {
        "id": "idaEd0NHmJvH",
        "colab_type": "text"
      },
      "cell_type": "markdown",
      "source": [
        "### モデルの作成\n",
        "\n",
        "次に、Kerasの学習モデルを作ります。ここではモデルを作っているだけで、まだ学習は行われません。"
      ]
    },
    {
      "metadata": {
        "id": "jdvoayg0F-IV",
        "colab_type": "code",
        "colab": {}
      },
      "cell_type": "code",
      "source": [
        "model = tf.keras.Sequential([\n",
        "    tf.keras.layers.Dense(units=1, input_dim=1)\n",
        "])\n",
        "model.compile(optimizer='sgd', loss='mean_squared_error')"
      ],
      "execution_count": 0,
      "outputs": []
    },
    {
      "metadata": {
        "id": "J7h04GmdHwZJ",
        "colab_type": "text"
      },
      "cell_type": "markdown",
      "source": [
        "ここでは次のことを行っています。\n",
        " * 1個の値（駅からの時間）を入力として受け取り、全結合層(Dense)を通して、1個の値（家賃）を出力する。\n",
        " * 学習は確率的勾配降下法によって行い、学習率は0.01（KerasでSGDを使う際の既定値）とする。\n",
        " * 損失は平均二乗誤差$L= \\frac{1}{m} \\sum^m_{i=1}{(\\hat{y}_i-y_i)^2}$を採用する（$m$はデータの個数、$\\hat{y}$は予測値、$y$は正解）。"
      ]
    },
    {
      "metadata": {
        "id": "-Ad9-AOXNI7V",
        "colab_type": "text"
      },
      "cell_type": "markdown",
      "source": [
        "作ったモデルを見てみましょう。"
      ]
    },
    {
      "metadata": {
        "id": "gPu4un_RNNry",
        "colab_type": "code",
        "colab": {}
      },
      "cell_type": "code",
      "source": [
        "model.summary()"
      ],
      "execution_count": 0,
      "outputs": []
    },
    {
      "metadata": {
        "id": "AL25WHSUmTyi",
        "colab_type": "text"
      },
      "cell_type": "markdown",
      "source": [
        "### モデルの学習\n",
        "\n",
        "モデルに実データを渡して学習します。\n",
        "\n",
        "ここでは、同じデータを1000回学習させます。学習が進むにつれて損失が減っていくのがわかります。"
      ]
    },
    {
      "metadata": {
        "id": "omeIS5BADgHA",
        "colab_type": "code",
        "colab": {}
      },
      "cell_type": "code",
      "source": [
        "hist = model.fit(xs, ys, epochs=1000)"
      ],
      "execution_count": 0,
      "outputs": []
    },
    {
      "metadata": {
        "id": "ZOjJXeRWXAMK",
        "colab_type": "text"
      },
      "cell_type": "markdown",
      "source": [
        "学習回数と損失の関係をグラフに表してみましょう。"
      ]
    },
    {
      "metadata": {
        "id": "5fkkJzOxPBXg",
        "colab_type": "code",
        "colab": {}
      },
      "cell_type": "code",
      "source": [
        "%matplotlib inline\n",
        "plt.plot(range(1, 1001), hist.history[\"loss\"])\n",
        "plt.xlabel(\"epoch\")\n",
        "plt.ylabel(\"loss\")"
      ],
      "execution_count": 0,
      "outputs": []
    },
    {
      "metadata": {
        "id": "OQmEc2ZpXwjA",
        "colab_type": "text"
      },
      "cell_type": "markdown",
      "source": [
        "学習した重みとバイアスを見てみましょう。\n",
        "\n",
        "重みが-0.2、バイアスが8.2に近い値になっていれば、学習がうまくいっていることになります。"
      ]
    },
    {
      "metadata": {
        "id": "huEXfe0SbPra",
        "colab_type": "code",
        "colab": {}
      },
      "cell_type": "code",
      "source": [
        "weights = model.layers[0].get_weights()[0]\n",
        "biases = model.layers[0].get_weights()[1]\n",
        "print(\"weight = {}\".format(weights[0, 0]))\n",
        "print(\"bias = {}\".format(biases[0]))"
      ],
      "execution_count": 0,
      "outputs": []
    },
    {
      "metadata": {
        "id": "KsexR-SHXJ6F",
        "colab_type": "text"
      },
      "cell_type": "markdown",
      "source": [
        "### 予測の実行\n",
        "\n",
        "いよいよ、徒歩10分の家賃を予測してみましょう。\n",
        "\n",
        "データが9個しかないので、出てきた予測値は、期待よりも正確でないと感じるかもしれません。"
      ]
    },
    {
      "metadata": {
        "id": "9oQ5UTtpZFmr",
        "colab_type": "code",
        "colab": {}
      },
      "cell_type": "code",
      "source": [
        "model.predict([10.0])"
      ],
      "execution_count": 0,
      "outputs": []
    },
    {
      "metadata": {
        "id": "faHi7kryaPlA",
        "colab_type": "text"
      },
      "cell_type": "markdown",
      "source": [
        "## 重回帰分析\n",
        "\n",
        "引き続き、賃貸アパートの家賃を予測してみましょう。徒歩10分で2階以上の部屋の家賃はいくらでしょうか？\n",
        "\n",
        "| 駅からの時間（分） | 2階以上? | 家賃（万円）|\n",
        "| ---: | --- | ---: |\n",
        "| 1 | Y | 8.11 |\n",
        "| 1 | N | 8.02 |\n",
        "| 2 | Y | 7.91 |\n",
        "| 2 | N | 7.75 |\n",
        "| 3 | Y | 7.70 |\n",
        "| 3 | N | 7.63 |\n",
        "| 4 | Y | 7.55 |\n",
        "| 4 | N | 7.47 |\n",
        "| 5 | Y | 7.32 |\n",
        "| 5 | N | 7.09 |\n",
        "| 6 | Y | 7.08 |\n",
        "| 6 | N | 7.01 |\n",
        "| 7 | Y | 6.98 |\n",
        "| 7 | N | 6.75 |\n",
        "| 8 | Y | 6.83 |\n",
        "| 8 | N | 6.65 |\n",
        "| 9 | Y | 6.47 |\n",
        "| 9 | N | 6.39 |\n",
        "|**10** | **Y** | **????**|\n"
      ]
    },
    {
      "metadata": {
        "id": "7SzgwIBRd1os",
        "colab_type": "text"
      },
      "cell_type": "markdown",
      "source": [
        "### データの作成\n",
        "\n",
        "numpyでデータを作ります。\n",
        "\n",
        "データは数値にしなければならないため、2階以上かどうかは、Yなら1、Nなら0の数値に変換しておきます。"
      ]
    },
    {
      "metadata": {
        "id": "nGVUWTUCcHCn",
        "colab_type": "code",
        "colab": {}
      },
      "cell_type": "code",
      "source": [
        "xs = np.array([[1.0, 1.0],\n",
        "               [1.0, 0.0], \n",
        "               [2.0, 1.0], \n",
        "               [2.0, 0.0],\n",
        "               [3.0, 1.0],\n",
        "               [3.0, 0.0],\n",
        "               [4.0, 1.0],\n",
        "               [4.0, 0.0],\n",
        "               [5.0, 1.0],\n",
        "               [5.0, 0.0],\n",
        "               [6.0, 1.0],\n",
        "               [6.0, 0.0],\n",
        "               [7.0, 1.0],\n",
        "               [7.0, 0.0],\n",
        "               [8.0, 1.0],\n",
        "               [8.0, 0.0],\n",
        "               [9.0, 1.0],\n",
        "               [9.0, 0.0]], dtype=np.float)\n",
        "ys = np.array([8.11,\n",
        "               8.02,\n",
        "               7.91,\n",
        "               7.75,\n",
        "               7.70,\n",
        "               7.63,\n",
        "               7.55,\n",
        "               7.47,\n",
        "               7.32,\n",
        "               7.09,\n",
        "               7.08,\n",
        "               7.01,\n",
        "               6.98,\n",
        "               6.75,\n",
        "               6.83,\n",
        "               6.65,\n",
        "               6.47,\n",
        "               6.39], dtype=np.float)"
      ],
      "execution_count": 0,
      "outputs": []
    },
    {
      "metadata": {
        "id": "1ogJLff2L_ly",
        "colab_type": "text"
      },
      "cell_type": "markdown",
      "source": [
        "### モデルの作成\n",
        "\n",
        "先ほどと同様に学習モデルを作ります。先ほどとの違いは、パラメータが2個（駅からの時間と2階以上かどうか）あるので、`Dense`の`input_dim`引数の値が2になっています。"
      ]
    },
    {
      "metadata": {
        "id": "R9JmTaE3fBbY",
        "colab_type": "code",
        "colab": {}
      },
      "cell_type": "code",
      "source": [
        "model = tf.keras.Sequential([\n",
        "    tf.keras.layers.Dense(units=1, input_dim=2)\n",
        "])\n",
        "model.compile(optimizer='sgd', loss='mean_squared_error')"
      ],
      "execution_count": 0,
      "outputs": []
    },
    {
      "metadata": {
        "id": "jxjQEB3FOZME",
        "colab_type": "text"
      },
      "cell_type": "markdown",
      "source": [
        "作ったモデルを見てみます。入力パラメータが1個増えた分、学習パラメータも増えています。"
      ]
    },
    {
      "metadata": {
        "id": "xdH22eGwjxzD",
        "colab_type": "code",
        "colab": {}
      },
      "cell_type": "code",
      "source": [
        "model.summary()"
      ],
      "execution_count": 0,
      "outputs": []
    },
    {
      "metadata": {
        "id": "FX4U17AjOnkI",
        "colab_type": "text"
      },
      "cell_type": "markdown",
      "source": [
        "### モデルの学習\n",
        "\n",
        "先ほど同様、データを1000回学習させ、損失をグラフ化します。"
      ]
    },
    {
      "metadata": {
        "id": "235MNW14fGD9",
        "colab_type": "code",
        "colab": {}
      },
      "cell_type": "code",
      "source": [
        "hist = model.fit(xs, ys, epochs=1000)"
      ],
      "execution_count": 0,
      "outputs": []
    },
    {
      "metadata": {
        "id": "AQmhlGHFRurm",
        "colab_type": "code",
        "colab": {}
      },
      "cell_type": "code",
      "source": [
        "%matplotlib inline\n",
        "plt.plot(range(1, 1001), hist.history[\"loss\"])\n",
        "plt.xlabel(\"epoch\")\n",
        "plt.ylabel(\"loss\")"
      ],
      "execution_count": 0,
      "outputs": []
    },
    {
      "metadata": {
        "id": "CUkrpL2Olfbe",
        "colab_type": "text"
      },
      "cell_type": "markdown",
      "source": [
        "重みとバイアスを出力します。重みが(-0.2, +0.1)、バイアスが8.2に近い値になっていれば、学習がうまくいっていることになります。"
      ]
    },
    {
      "metadata": {
        "id": "RSiH-Q6XjDRa",
        "colab_type": "code",
        "colab": {}
      },
      "cell_type": "code",
      "source": [
        "weights = model.layers[0].get_weights()[0]\n",
        "biases = model.layers[0].get_weights()[1]\n",
        "print(\"weight = {}\".format(weights))\n",
        "print(\"bias = {}\".format(biases))"
      ],
      "execution_count": 0,
      "outputs": []
    },
    {
      "metadata": {
        "id": "4nxtQ4HxSIxL",
        "colab_type": "text"
      },
      "cell_type": "markdown",
      "source": [
        "### 予測の実行\n",
        "\n",
        "最後に、徒歩10分で2階以上の物件の家賃を予測してみましょう。"
      ]
    },
    {
      "metadata": {
        "id": "1UPW6XfKfSgk",
        "colab_type": "code",
        "colab": {}
      },
      "cell_type": "code",
      "source": [
        "x_test = np.array([[10.0, 1.0]])\n",
        "model.predict(x_test)"
      ],
      "execution_count": 0,
      "outputs": []
    }
  ]
}