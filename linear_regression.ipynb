{
  "nbformat": 4,
  "nbformat_minor": 0,
  "metadata": {
    "colab": {
      "name": "linear_regression.ipynb",
      "provenance": [],
      "collapsed_sections": [],
      "include_colab_link": true
    },
    "kernelspec": {
      "name": "python3",
      "display_name": "Python 3"
    },
    "gpuClass": "standard"
  },
  "cells": [
    {
      "cell_type": "markdown",
      "metadata": {
        "id": "view-in-github",
        "colab_type": "text"
      },
      "source": [
        "<a href=\"https://colab.research.google.com/github/nsstnaka/machine_learning_handson/blob/master/linear_regression.ipynb\" target=\"_parent\"><img src=\"https://colab.research.google.com/assets/colab-badge.svg\" alt=\"Open In Colab\"/></a>"
      ]
    },
    {
      "metadata": {
        "id": "cyvbwzrSDgG9"
      },
      "cell_type": "markdown",
      "source": [
        "# 機械学習ハンズオン（線形回帰編）"
      ]
    },
    {
      "metadata": {
        "id": "CmEt2huHDgG2"
      },
      "cell_type": "markdown",
      "source": [
        "## 事前準備"
      ]
    },
    {
      "cell_type": "markdown",
      "source": [
        "ライブラリをロードします。"
      ],
      "metadata": {
        "id": "CFh9lnihJnrA"
      }
    },
    {
      "metadata": {
        "id": "dCmc-hTVDgG4"
      },
      "cell_type": "code",
      "source": [
        "import matplotlib.pyplot as plt\n",
        "import numpy as np"
      ],
      "execution_count": null,
      "outputs": []
    },
    {
      "metadata": {
        "id": "oGytAnEjErpo"
      },
      "cell_type": "markdown",
      "source": [
        "## 単回帰分析"
      ]
    },
    {
      "metadata": {
        "id": "KysuH99PDgG_"
      },
      "cell_type": "markdown",
      "source": [
        "【課題】賃貸アパートの家賃を予測してみましょう。徒歩10分では家賃はいくらでしょうか？\n",
        "\n",
        "| 駅からの時間（分） | 家賃（万円）|\n",
        "| ---: | ---: |\n",
        "| 1 | 8.02 |\n",
        "| 2 | 7.75 |\n",
        "| 3 | 7.63 |\n",
        "| 4 | 7.47 |\n",
        "| 5 | 7.09 |\n",
        "| 6 | 7.01 |\n",
        "| 7 | 6.75 |\n",
        "| 8 | 6.65 |\n",
        "| 9 | 6.39 |\n",
        "|**10** | **????**|\n"
      ]
    },
    {
      "metadata": {
        "id": "CHRuVbNKlEyU"
      },
      "cell_type": "markdown",
      "source": [
        "### データの作成\n",
        "\n",
        "まず、$x$と$y$のデータを作ります。\n",
        "この課題では、$x$は駅からの時間、$y$は家賃とします。"
      ]
    },
    {
      "metadata": {
        "id": "0TygU2AujFc1"
      },
      "cell_type": "code",
      "source": [
        "xs = [1.0, 2.0, 3.0, 4.0, 5.0, 6.0, 7.0, 8.0, 9.0]\n",
        "ys = [8.02, 7.75, 7.63, 7.47, 7.09, 7.01, 6.75, 6.65, 6.39]"
      ],
      "execution_count": null,
      "outputs": []
    },
    {
      "metadata": {
        "id": "0Fpax8G1lLXy"
      },
      "cell_type": "markdown",
      "source": [
        "これをグラフで可視化してみましょう。どんな傾向が見えてくるでしょうか？"
      ]
    },
    {
      "cell_type": "code",
      "source": [
        "%matplotlib inline\n",
        "plt.scatter(xs, ys)\n",
        "plt.xlabel(\"x\")\n",
        "plt.ylabel(\"y\")"
      ],
      "metadata": {
        "id": "JFHxDobYlHzZ"
      },
      "execution_count": null,
      "outputs": []
    },
    {
      "metadata": {
        "id": "VkB_Renmi10X"
      },
      "cell_type": "code",
      "source": [
        "%matplotlib inline\n",
        "plt.plot([0.0, 9.0], [8.2, 6.4], color='r', ls=':')\n",
        "plt.scatter(xs, ys)\n",
        "plt.xlabel(\"x\")\n",
        "plt.ylabel(\"y\")"
      ],
      "execution_count": null,
      "outputs": []
    },
    {
      "metadata": {
        "id": "idaEd0NHmJvH"
      },
      "cell_type": "markdown",
      "source": [
        "### 学習\n",
        "\n",
        "上で作ったデータを使って、重みとバイアスを学習していきます。"
      ]
    },
    {
      "cell_type": "markdown",
      "source": [
        "予測を行う関数を定義しておきます。"
      ],
      "metadata": {
        "id": "J9Stg4JI_khx"
      }
    },
    {
      "cell_type": "code",
      "source": [
        "def predict(x: float, w: float, b: float) -> float:\n",
        "    return w * x + b"
      ],
      "metadata": {
        "id": "o6pIBauL87SV"
      },
      "execution_count": null,
      "outputs": []
    },
    {
      "cell_type": "markdown",
      "source": [
        "各種設定（**ハイパーパラメータ**の設定）を行います。"
      ],
      "metadata": {
        "id": "TmY4paq4_asr"
      }
    },
    {
      "cell_type": "code",
      "source": [
        "init_weight = 0.0  # 重みの初期値\n",
        "init_bias = 0.0  # バイアスの初期値\n",
        "learning_rate = 0.03  # 学習率\n",
        "epochs = 1000  # 学習回数（同じデータをこの回数だけ繰り返し学習させる）"
      ],
      "metadata": {
        "id": "be3Fgtejvkkq"
      },
      "execution_count": null,
      "outputs": []
    },
    {
      "cell_type": "markdown",
      "source": [
        "重みとバイアスを初期化します。また、途中経過を記録するための空の配列を用意しておきます。\n",
        "\n",
        "※学習をやり直すときは、ここから下のセルを再実行します。"
      ],
      "metadata": {
        "id": "kr8rVRv3_sku"
      }
    },
    {
      "cell_type": "code",
      "source": [
        "# 重みとバイアスの初期化\n",
        "weight = init_weight\n",
        "bias = init_bias\n",
        "\n",
        "# 記録用の配列\n",
        "loss_history = []\n",
        "weight_history = [init_weight]\n",
        "bias_history = [init_bias]"
      ],
      "metadata": {
        "id": "yHksJ2rC844G"
      },
      "execution_count": null,
      "outputs": []
    },
    {
      "cell_type": "markdown",
      "source": [
        "いよいよ学習を実行します。"
      ],
      "metadata": {
        "id": "q4vOJVXHAS8p"
      }
    },
    {
      "cell_type": "code",
      "source": [
        "for _ in range(epochs):\n",
        "    sum_squared_error = 0.0  # 損失の合計（各データの損失を合計し、あとで平均を求める）\n",
        "    sum_grad_w = 0.0  # 重みの勾配の合計（各データの勾配を合計し、あとで平均を求める）\n",
        "    sum_grad_b = 0.0  # バイアスの勾配の合計（各データの勾配を合計し、あとで平均を求める）\n",
        "\n",
        "    # データ1個ごとに家賃を予測し、損失および勾配を計算する\n",
        "    for x, y in zip(xs, ys):  # xsとysからxとyを1個ずつ取り出す\n",
        "        # 予測値を計算\n",
        "        pred_value = predict(x, weight, bias)\n",
        "\n",
        "        # 損失と勾配を計算\n",
        "        error = pred_value - y\n",
        "        sum_squared_error += error ** 2  # \"a ** b\" は「aのb乗」\n",
        "        sum_grad_w += x * error\n",
        "        sum_grad_b += error\n",
        "\n",
        "    # 損失（平均二乗誤差）を求める\n",
        "    loss = sum_squared_error / len(xs)\n",
        "\n",
        "    # 重みとバイアスの勾配の平均値を求める\n",
        "    grad_w = sum_grad_w / len(xs)\n",
        "    grad_b = sum_grad_b / len(xs)\n",
        "\n",
        "    # 重みとバイアスを更新\n",
        "    weight -= learning_rate * grad_w\n",
        "    bias -= learning_rate * grad_b\n",
        "\n",
        "    # グラフ出力用に損失と勾配の履歴を残す\n",
        "    loss_history.append(loss)\n",
        "    weight_history.append(weight)\n",
        "    bias_history.append(bias)\n"
      ],
      "metadata": {
        "id": "V9awAbGp9Fx8"
      },
      "execution_count": null,
      "outputs": []
    },
    {
      "metadata": {
        "id": "ZOjJXeRWXAMK"
      },
      "cell_type": "markdown",
      "source": [
        "学習回数と損失の関係をグラフに表してみましょう。（これを **学習曲線(Learning curve)** と呼びます）\n",
        "\n",
        "回数を重ねるごとに損失が減っていくのがわかります。"
      ]
    },
    {
      "cell_type": "code",
      "source": [
        "%matplotlib inline\n",
        "plt.plot(range(1, epochs+1), loss_history)\n",
        "plt.title(\"Learning curve\")\n",
        "plt.xlabel(\"epoch\")\n",
        "plt.ylabel(\"loss\")"
      ],
      "metadata": {
        "id": "rrGKj5Ed4BlI"
      },
      "execution_count": null,
      "outputs": []
    },
    {
      "cell_type": "markdown",
      "source": [
        "学習が進むについて重みとバイアスが調整されていく様子を可視化してみましょう。"
      ],
      "metadata": {
        "id": "4NJkmJu_-o0z"
      }
    },
    {
      "cell_type": "code",
      "source": [
        "%matplotlib inline\n",
        "plt.figure(figsize=(12, 18))\n",
        "# 学習回数の10分の1ごとにグラフ出力\n",
        "for i, epoch in enumerate(range(int(epochs/10), epochs+1, int(epochs/10))):\n",
        "    ax = plt.subplot(5, 2, i+1)\n",
        "    ax.set_title(f\"{epoch} epochs\")\n",
        "    ax.scatter(xs, ys)\n",
        "    ax.set_ylim(4.0, 9.0)\n",
        "    ax.plot([0, 10], [bias_history[epoch], predict(10.0, weight_history[epoch], bias_history[epoch])], c='r', ls=':')\n"
      ],
      "metadata": {
        "id": "HOycdrwRF2Xy"
      },
      "execution_count": null,
      "outputs": []
    },
    {
      "metadata": {
        "id": "OQmEc2ZpXwjA"
      },
      "cell_type": "markdown",
      "source": [
        "学習が終わった時点での重みとバイアスを見てみましょう。\n",
        "\n",
        "重みが-0.2、バイアスが8.2に近い値になっていれば、学習がうまくいっていることになります。"
      ]
    },
    {
      "cell_type": "code",
      "source": [
        "print(f\"(weight, bias) = ({weight:.5f}, {bias:.5f})\")"
      ],
      "metadata": {
        "id": "vl2S8NolAp5e"
      },
      "execution_count": null,
      "outputs": []
    },
    {
      "metadata": {
        "id": "KsexR-SHXJ6F"
      },
      "cell_type": "markdown",
      "source": [
        "### 予測の実行\n",
        "\n",
        "いよいよ、徒歩10分の家賃を予測してみましょう。\n",
        "\n",
        "6.2万円に近ければ、予測がうまくいっていることになります。"
      ]
    },
    {
      "metadata": {
        "id": "9oQ5UTtpZFmr"
      },
      "cell_type": "code",
      "source": [
        "predict(10.0, weight, bias)"
      ],
      "execution_count": null,
      "outputs": []
    },
    {
      "metadata": {
        "id": "faHi7kryaPlA"
      },
      "cell_type": "markdown",
      "source": [
        "## 重回帰分析\n",
        "\n",
        "【課題】引き続き、賃貸アパートの家賃を予測してみましょう。徒歩10分で2階以上の部屋の家賃はいくらでしょうか？\n",
        "\n",
        "| 駅からの時間（分） | 2階以上? | 家賃（万円）|\n",
        "| ---: | --- | ---: |\n",
        "| 1 | Yes | 8.11 |\n",
        "| 1 | No | 8.02 |\n",
        "| 2 | Yes | 7.91 |\n",
        "| 2 | No | 7.75 |\n",
        "| 3 | Yes | 7.70 |\n",
        "| 3 | No | 7.63 |\n",
        "| 4 | Yes | 7.55 |\n",
        "| 4 | No | 7.47 |\n",
        "| 5 | Yes | 7.32 |\n",
        "| 5 | No | 7.09 |\n",
        "| 6 | Yes | 7.08 |\n",
        "| 6 | No | 7.01 |\n",
        "| 7 | Yes | 6.98 |\n",
        "| 7 | No | 6.75 |\n",
        "| 8 | Yes | 6.83 |\n",
        "| 8 | No | 6.65 |\n",
        "| 9 | Yes | 6.47 |\n",
        "| 9 | No | 6.39 |\n",
        "|**10** | **Yes** | **????**|\n",
        "\n",
        "この課題では、**numpy**という数値計算ライブラリを使って実装することにしましょう。"
      ]
    },
    {
      "metadata": {
        "id": "7SzgwIBRd1os"
      },
      "cell_type": "markdown",
      "source": [
        "### データの作成\n",
        "\n",
        "numpyでデータを作ります。\n",
        "\n",
        "$X$は、データが2種類（駅からの時間と2階以上かどうか）あるため、二次元配列にします。\n",
        "\n",
        "なお、データは数値にしなければならないため、2階以上かどうかは、Yesなら1、Noなら0の数値に変換しておきます。"
      ]
    },
    {
      "metadata": {
        "id": "nGVUWTUCcHCn"
      },
      "cell_type": "code",
      "source": [
        "xs_multi = np.array([[1.0, 1.0],\n",
        "                     [1.0, 0.0], \n",
        "                     [2.0, 1.0], \n",
        "                     [2.0, 0.0],\n",
        "                     [3.0, 1.0],\n",
        "                     [3.0, 0.0],\n",
        "                     [4.0, 1.0],\n",
        "                     [4.0, 0.0],\n",
        "                     [5.0, 1.0],\n",
        "                     [5.0, 0.0],\n",
        "                     [6.0, 1.0],\n",
        "                     [6.0, 0.0],\n",
        "                     [7.0, 1.0],\n",
        "                     [7.0, 0.0],\n",
        "                     [8.0, 1.0],\n",
        "                     [8.0, 0.0],\n",
        "                     [9.0, 1.0],\n",
        "                     [9.0, 0.0]], dtype=np.float32)\n",
        "ys_multi = np.array([8.11, 8.02, 7.91, 7.75, 7.70, 7.63, 7.55, 7.47, 7.32, 7.09,\n",
        "                     7.08, 7.01, 6.98, 6.75, 6.83, 6.65, 6.47, 6.39],\n",
        "                    dtype=np.float32)\n",
        "ys_multi = np.expand_dims(ys_multi, axis=1)"
      ],
      "execution_count": null,
      "outputs": []
    },
    {
      "cell_type": "markdown",
      "source": [
        "こちらもグラフで可視化してみましょう。どんな傾向が見えてくるでしょうか？"
      ],
      "metadata": {
        "id": "eO4wD5jpCZse"
      }
    },
    {
      "cell_type": "code",
      "source": [
        "%matplotlib inline\n",
        "plt.scatter(xs_multi[xs_multi[:, 1]==1.0][:, 0],\n",
        "            ys_multi[xs_multi[:, 1]==1.0][:, 0],\n",
        "            label=\"2F or upper\")\n",
        "plt.scatter(xs_multi[xs_multi[:, 1]==0.0][:, 0],\n",
        "            ys_multi[xs_multi[:, 1]==0.0][:, 0],\n",
        "            label=\"1F\")\n",
        "plt.legend()\n",
        "plt.xlabel(\"x\")\n",
        "plt.ylabel(\"y\")"
      ],
      "metadata": {
        "id": "e03pq0P5KZNt"
      },
      "execution_count": null,
      "outputs": []
    },
    {
      "metadata": {
        "id": "FX4U17AjOnkI"
      },
      "cell_type": "markdown",
      "source": [
        "### モデルの学習\n",
        "\n",
        "データを1000回学習させ、損失をグラフ化します。"
      ]
    },
    {
      "cell_type": "markdown",
      "source": [
        "先ほどと同様に予測関数を作っておきます。\n",
        "今回はすべてのデータの予測値を一度に計算してしまうことに注目してください。"
      ],
      "metadata": {
        "id": "7S2rQyGqDE5N"
      }
    },
    {
      "cell_type": "code",
      "source": [
        "def predict_np(X: np.array, W: np.array, b: float) -> np.array:\n",
        "    return np.dot(X, W.T) + b"
      ],
      "metadata": {
        "id": "x3LclxOvC6o3"
      },
      "execution_count": null,
      "outputs": []
    },
    {
      "cell_type": "markdown",
      "source": [
        "ハイパーパラメータの設定を行います。"
      ],
      "metadata": {
        "id": "BXNDozXSlobp"
      }
    },
    {
      "cell_type": "code",
      "source": [
        "init_weights = np.zeros((1, 2))  # 2個の重みをそれぞれ0に設定\n",
        "init_bias = 0.0  # バイアスの初期値\n",
        "learning_rate = 0.03  # 学習率\n",
        "epochs = 1000  # 学習回数（同じデータをこの回数だけ繰り返し学習させる）"
      ],
      "metadata": {
        "id": "2mPWuRqyDbKW"
      },
      "execution_count": null,
      "outputs": []
    },
    {
      "cell_type": "markdown",
      "source": [
        "重みとバイアスを初期化します。また、途中の損失を記録するための空の配列を用意しておきます。\n",
        "\n",
        "※学習をやり直すときは、ここから下のセルを再実行します。"
      ],
      "metadata": {
        "id": "AhVoqynLlu-W"
      }
    },
    {
      "cell_type": "code",
      "source": [
        "# 重みとバイアスの初期化\n",
        "weights = np.copy(init_weights)\n",
        "bias = init_bias\n",
        "\n",
        "# 記録用の配列\n",
        "loss_history = []"
      ],
      "metadata": {
        "id": "FJB2QtiKDxLI"
      },
      "execution_count": null,
      "outputs": []
    },
    {
      "cell_type": "markdown",
      "source": [
        "学習を実行します。"
      ],
      "metadata": {
        "id": "UyDXfRcjlyIh"
      }
    },
    {
      "cell_type": "code",
      "source": [
        "for e in range(epochs):\n",
        "    # 各データの予測値を一度にすべて求める\n",
        "    pred_values = predict_np(xs_multi, weights, bias)\n",
        "\n",
        "    # 損失（平均二乗誤差）を求める\n",
        "    error = pred_values - ys_multi\n",
        "    loss = np.mean(error ** 2)\n",
        "\n",
        "    # 勾配を求める\n",
        "    grad_ws = np.dot(error.T, xs_multi) / xs_multi.shape[0]\n",
        "    grad_b = np.mean(error)\n",
        "\n",
        "    # 重みとバイアスを更新\n",
        "    weights -= learning_rate * grad_ws\n",
        "    bias -= learning_rate * grad_b\n",
        "\n",
        "    # グラフ出力用に損失と勾配の履歴を残す\n",
        "    loss_history.append(loss)\n",
        "    weight_history.append(weights)\n",
        "    bias_history.append(bias)\n"
      ],
      "metadata": {
        "id": "-h7iVEKAEOLA"
      },
      "execution_count": null,
      "outputs": []
    },
    {
      "cell_type": "markdown",
      "source": [
        "学習曲線を表してみます。先ほど同様、回数を重ねるごとに損失が減っていくのがわかります。"
      ],
      "metadata": {
        "id": "gm5aGlwql36-"
      }
    },
    {
      "cell_type": "code",
      "source": [
        "%matplotlib inline\n",
        "plt.plot(range(1, epochs+1), loss_history)\n",
        "plt.title(\"Learning curve\")\n",
        "plt.xlabel(\"epoch\")\n",
        "plt.ylabel(\"loss\")"
      ],
      "metadata": {
        "id": "54SNaWf7JAi4"
      },
      "execution_count": null,
      "outputs": []
    },
    {
      "metadata": {
        "id": "CUkrpL2Olfbe"
      },
      "cell_type": "markdown",
      "source": [
        "重みとバイアスを見てみます。重みが(-0.2, +0.1)、バイアスが8.2に近い値になっていれば、学習がうまくいっていることになります。"
      ]
    },
    {
      "cell_type": "code",
      "source": [
        "print(f\"(weight, bias) = ({weights}, {bias:.5f})\")"
      ],
      "metadata": {
        "id": "yA8AReNtJMk4"
      },
      "execution_count": null,
      "outputs": []
    },
    {
      "metadata": {
        "id": "4nxtQ4HxSIxL"
      },
      "cell_type": "markdown",
      "source": [
        "### 予測の実行\n",
        "\n",
        "最後に、徒歩10分で2階以上の物件の家賃を予測してみましょう。\n",
        "\n",
        "6.3万円に近ければ、予測がうまくいっていることになります。"
      ]
    },
    {
      "cell_type": "code",
      "source": [
        "predict_np([10.0, 1.0], weights, bias)"
      ],
      "metadata": {
        "id": "PyL7KdUfJXI0"
      },
      "execution_count": null,
      "outputs": []
    },
    {
      "cell_type": "markdown",
      "source": [
        "# おまけ：ライブラリを使った実装"
      ],
      "metadata": {
        "id": "YWOfw2AOO6Wq"
      }
    },
    {
      "cell_type": "markdown",
      "source": [
        "【課題】重回帰分析の課題を、ディープラーニングライブラリの一つである**TensorFlow**を使って実装してみましょう。\n",
        "\n",
        "なお、$X$と$Y$のデータは上記の重回帰分析で作ったものをそのまま使うことにします。"
      ],
      "metadata": {
        "id": "Omy4Kl-6NTwe"
      }
    },
    {
      "cell_type": "code",
      "source": [
        "import tensorflow as tf"
      ],
      "metadata": {
        "id": "ELiBzqcnNaUQ"
      },
      "execution_count": null,
      "outputs": []
    },
    {
      "cell_type": "markdown",
      "source": [
        "まず**モデル**を作ります。モデルに対してデータを流し込むことによって学習を進めることになります。\n",
        "\n",
        "2行目の `Dense` が重みとバイアスを持ち、$\\hat{Y}=W^TX+b$を計算します。\n",
        "4行目のcompileでモデルを組み立てます。`optimizer`でパラメータの更新方法を（ここに学習率を渡しています）、`loss`で損失（ここでは平均二乗誤差）を指定しています。\n",
        "\n",
        "※学習をやり直すときは、ここから下のセルを再実行します。"
      ],
      "metadata": {
        "id": "G6JRFAfSPQAo"
      }
    },
    {
      "cell_type": "code",
      "source": [
        "model = tf.keras.Sequential([\n",
        "    tf.keras.layers.Dense(units=1, input_dim=2)\n",
        "])\n",
        "model.compile(optimizer=tf.keras.optimizers.SGD(0.03), loss=\"mean_squared_error\")"
      ],
      "metadata": {
        "id": "tVbfspUTJfuN"
      },
      "execution_count": null,
      "outputs": []
    },
    {
      "cell_type": "markdown",
      "source": [
        "作ったモデルの中身を見てみましょう。"
      ],
      "metadata": {
        "id": "RPZ68a7AR3Dg"
      }
    },
    {
      "cell_type": "code",
      "source": [
        "model.summary()"
      ],
      "metadata": {
        "id": "tClES2lhNhKp"
      },
      "execution_count": null,
      "outputs": []
    },
    {
      "cell_type": "markdown",
      "source": [
        "モデルの学習を行います。同じデータを1000回学習させます。\n",
        "\n",
        "損失の計算、勾配の計算、パラメータの更新は自動的に行われます。"
      ],
      "metadata": {
        "id": "_lJlAo4ATEF0"
      }
    },
    {
      "cell_type": "code",
      "source": [
        "hist = model.fit(xs_multi, ys_multi, epochs=1000, verbose=0)"
      ],
      "metadata": {
        "id": "svgyq0-YNfML"
      },
      "execution_count": null,
      "outputs": []
    },
    {
      "cell_type": "markdown",
      "source": [
        "学習曲線を可視化します。"
      ],
      "metadata": {
        "id": "qWPudQLKTTdk"
      }
    },
    {
      "cell_type": "code",
      "source": [
        "%matplotlib inline\n",
        "plt.plot(range(1, 1001), hist.history[\"loss\"])\n",
        "plt.title(\"Learning rate\")\n",
        "plt.xlabel(\"epoch\")\n",
        "plt.ylabel(\"loss\")"
      ],
      "metadata": {
        "id": "F-r9WdCBNlxf"
      },
      "execution_count": null,
      "outputs": []
    },
    {
      "cell_type": "markdown",
      "source": [
        "重みとバイアスを見てみます。重みが(-0.2, +0.1)、バイアスが8.2に近い値になっていれば、学習がうまくいっていることになります。"
      ],
      "metadata": {
        "id": "aV5LciqmTijM"
      }
    },
    {
      "cell_type": "code",
      "source": [
        "weights = model.layers[0].get_weights()[0][0]\n",
        "biases = model.layers[0].get_weights()[1][0]\n",
        "print(f\"(weights, bias) = ({weights}, {biases})\")"
      ],
      "metadata": {
        "id": "_v9aFiXaN2a2"
      },
      "execution_count": null,
      "outputs": []
    },
    {
      "cell_type": "markdown",
      "source": [
        "最後に予測をしてみましょう。6.3万円に近ければ予測がうまくいっていることになります。"
      ],
      "metadata": {
        "id": "-4lhgtnzTwg1"
      }
    },
    {
      "cell_type": "code",
      "source": [
        "model.predict([[10.0, 1.0]])"
      ],
      "metadata": {
        "id": "5F9fVRg8N7Z_"
      },
      "execution_count": null,
      "outputs": []
    },
    {
      "cell_type": "markdown",
      "source": [
        "## 研究課題"
      ],
      "metadata": {
        "id": "ZLquqv7bDgEU"
      }
    },
    {
      "cell_type": "markdown",
      "source": [
        "上のそれぞれの課題において、学習率(`learning_rate`)をいろいろ変えて試してみましょう。学習曲線や予測結果にどのような影響があるでしょうか？"
      ],
      "metadata": {
        "id": "azCRvSumDz2N"
      }
    }
  ]
}