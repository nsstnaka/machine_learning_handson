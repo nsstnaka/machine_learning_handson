{
  "nbformat": 4,
  "nbformat_minor": 0,
  "metadata": {
    "colab": {
      "name": "workflow.ipynb",
      "version": "0.3.2",
      "provenance": [],
      "collapsed_sections": []
    },
    "language_info": {
      "codemirror_mode": {
        "name": "ipython",
        "version": 3
      },
      "file_extension": ".py",
      "mimetype": "text/x-python",
      "name": "python",
      "nbconvert_exporter": "python",
      "pygments_lexer": "ipython3",
      "version": "3.6.7"
    },
    "kernelspec": {
      "name": "python3",
      "display_name": "Python 3"
    },
    "accelerator": "GPU"
  },
  "cells": [
    {
      "cell_type": "markdown",
      "metadata": {
        "colab_type": "text",
        "id": "zXGU5pQyqTa3"
      },
      "source": [
        "# 機械学習ハンズオン（ワークフロー編）"
      ]
    },
    {
      "cell_type": "markdown",
      "metadata": {
        "colab_type": "text",
        "id": "1XffT4RcukyM"
      },
      "source": [
        "## 1. ハンズオンの概要\n",
        "\n",
        "[UCIのAdultデータセット](https://archive.ics.uci.edu/ml/datasets/Adult)を使って、\n",
        "年齢や職業などのデータから、その人の収入が5万ドル以上あるかどうかの2値分類(binary classification)を行います。\n",
        "\n",
        "このハンズオンの流れは次のとおりです。\n",
        " 1. データの取得\n",
        " 1. データの分析\n",
        " 1. データの前処理\n",
        " 1. 学習モデルの作成\n",
        " 1. 学習モデルの評価\n"
      ]
    },
    {
      "cell_type": "markdown",
      "metadata": {
        "colab_type": "text",
        "id": "2IR9nUYhqa4O"
      },
      "source": [
        "## 2. 事前準備"
      ]
    },
    {
      "cell_type": "markdown",
      "metadata": {
        "colab_type": "text",
        "id": "hpHuphVKOYAV"
      },
      "source": [
        "### 2.1. ランタイムの確認\n",
        "\n",
        "Google Colabを使っている場合は、メニューから「ランタイム」→「ランタイムのタイプを変更」を選択して、「ハードウェア アクセラレータ」を「GPU」に設定してください。\n"
      ]
    },
    {
      "cell_type": "markdown",
      "metadata": {
        "colab_type": "text",
        "id": "BwEY6hKtOQgf"
      },
      "source": [
        "### 2.2. ライブラリのロード"
      ]
    },
    {
      "cell_type": "code",
      "metadata": {
        "colab_type": "code",
        "id": "J0xv_s4AkdQl",
        "colab": {}
      },
      "source": [
        "!pip install pandas tensorflow numpy matplotlib seaborn scikit-learn\n",
        "import pandas as pd\n",
        "import tensorflow as tf\n",
        "import numpy as np\n",
        "import matplotlib.pyplot as plt\n",
        "import seaborn as sns\n",
        "from sklearn.model_selection import train_test_split\n",
        "from sklearn.preprocessing import MinMaxScaler\n",
        "from sklearn.metrics import accuracy_score, precision_score, recall_score, f1_score"
      ],
      "execution_count": 0,
      "outputs": []
    },
    {
      "cell_type": "markdown",
      "metadata": {
        "colab_type": "text",
        "id": "aMPsmjpaql49"
      },
      "source": [
        "## 3. データ取得"
      ]
    },
    {
      "cell_type": "markdown",
      "metadata": {
        "colab_type": "text",
        "id": "BJQtfRoikdRC"
      },
      "source": [
        "pandasのAPIを使ってデータファイルを読み込みます。\n",
        " * このファイルにはヘッダー行がないので、ヘッダーは自分で設定します。\n",
        " * 不明値を表す \"?\" はN/Aに変換しておきます。\n",
        "   * のちほど不明値を処理します。"
      ]
    },
    {
      "cell_type": "code",
      "metadata": {
        "colab_type": "code",
        "id": "WqRc64tnkdRF",
        "colab": {}
      },
      "source": [
        "headers = ('age', 'workclass', 'fnlwgt', 'education', 'education-num', 'marital-status', 'occupation', 'relationship', 'race', 'sex', 'capital-gain', 'capital-loss', 'hours-per-week', 'native-country', 'income')\n",
        "df = pd.read_csv('https://archive.ics.uci.edu/ml/machine-learning-databases/adult/adult.data', sep=', ', names=headers, na_values='?')"
      ],
      "execution_count": 0,
      "outputs": []
    },
    {
      "cell_type": "markdown",
      "metadata": {
        "colab_type": "text",
        "id": "wX0dzuzTkdRo"
      },
      "source": [
        "読み込んだデータを表示してみましょう。"
      ]
    },
    {
      "cell_type": "code",
      "metadata": {
        "colab_type": "code",
        "id": "061oX1mlkdRq",
        "colab": {}
      },
      "source": [
        "df.head(10)"
      ],
      "execution_count": 0,
      "outputs": []
    },
    {
      "cell_type": "markdown",
      "metadata": {
        "colab_type": "text",
        "id": "yjh0diHeSs51"
      },
      "source": [
        "## 4. データ分析"
      ]
    },
    {
      "cell_type": "markdown",
      "metadata": {
        "colab_type": "text",
        "id": "b9WMSN96YIPd"
      },
      "source": [
        "### 4.1. ラベルごとのデータ件数\n",
        "\n",
        "5万ドル未満が約76%あるので、**学習モデルがすべて5万ドル未満と予測しても76%前後の正答率が出てしまう**ことに注意が必要です。"
      ]
    },
    {
      "cell_type": "code",
      "metadata": {
        "colab_type": "code",
        "id": "X55ihWB9aUG3",
        "colab": {}
      },
      "source": [
        "df.groupby('income').size()"
      ],
      "execution_count": 0,
      "outputs": []
    },
    {
      "cell_type": "code",
      "metadata": {
        "colab_type": "code",
        "id": "cmsdXdgU_-39",
        "colab": {}
      },
      "source": [
        "df.groupby('income').size() / len(df)"
      ],
      "execution_count": 0,
      "outputs": []
    },
    {
      "cell_type": "markdown",
      "metadata": {
        "colab_type": "text",
        "id": "GNWs3TrmnIlo"
      },
      "source": [
        "### 4.2. 量的変数の分析"
      ]
    },
    {
      "cell_type": "markdown",
      "metadata": {
        "colab_type": "text",
        "id": "KpFv5-ukgovx"
      },
      "source": [
        "#### ラベル別の特徴量の分布\n",
        "fntwgtは、5万ドル超も5万ドル以下も同じ分布を取っているので、ラベルとは無関係と判断し、特徴量から除外することにします。"
      ]
    },
    {
      "cell_type": "code",
      "metadata": {
        "colab_type": "code",
        "id": "-Nu78QjqbYp7",
        "colab": {}
      },
      "source": [
        "plt.figure(figsize=(20, 10))\n",
        "features = ['age', 'fnlwgt', 'education-num', 'capital-gain', 'capital-loss', 'hours-per-week']\n",
        "for i in range(len(features)):\n",
        "  plt.subplot(2, 3, i+1)\n",
        "  plt.title(features[i])\n",
        "  sns.kdeplot(df[df['income']=='<=50K'][features[i]], label='<=50K')\n",
        "  sns.kdeplot(df[df['income']=='>50K'][features[i]], label='>50K')\n"
      ],
      "execution_count": 0,
      "outputs": []
    },
    {
      "cell_type": "code",
      "metadata": {
        "colab_type": "code",
        "id": "8guTPnhs7VWB",
        "colab": {}
      },
      "source": [
        "df[df['income']=='<=50K'].describe()"
      ],
      "execution_count": 0,
      "outputs": []
    },
    {
      "cell_type": "code",
      "metadata": {
        "id": "bWpNZYHKS5nO",
        "colab_type": "code",
        "colab": {}
      },
      "source": [
        "df[df['income']=='>50K'].describe()"
      ],
      "execution_count": 0,
      "outputs": []
    },
    {
      "cell_type": "markdown",
      "metadata": {
        "colab_type": "text",
        "id": "6X2BHAHPnr8D"
      },
      "source": [
        "### 4.3. 質的変数の分析"
      ]
    },
    {
      "cell_type": "markdown",
      "metadata": {
        "colab_type": "text",
        "id": "aUuVWUIrnw4x"
      },
      "source": [
        "#### ラベル別の特徴量の分布"
      ]
    },
    {
      "cell_type": "code",
      "metadata": {
        "colab_type": "code",
        "id": "HIBAg21BkdTm",
        "colab": {}
      },
      "source": [
        "pd.crosstab(index=df['income'], columns=df['workclass'], normalize='columns')"
      ],
      "execution_count": 0,
      "outputs": []
    },
    {
      "cell_type": "code",
      "metadata": {
        "colab_type": "code",
        "id": "jXfVPMp1kdUE",
        "colab": {}
      },
      "source": [
        "pd.crosstab(index=df['income'], columns=df['marital-status'], normalize='columns')"
      ],
      "execution_count": 0,
      "outputs": []
    },
    {
      "cell_type": "code",
      "metadata": {
        "colab_type": "code",
        "id": "JyDBXqlPkdU5",
        "colab": {}
      },
      "source": [
        "pd.crosstab(index=df['income'], columns=df['occupation'], normalize='columns')"
      ],
      "execution_count": 0,
      "outputs": []
    },
    {
      "cell_type": "code",
      "metadata": {
        "colab_type": "code",
        "id": "Wn70CIUlkdVX",
        "colab": {}
      },
      "source": [
        "pd.crosstab(index=df['income'], columns=df['relationship'], normalize='columns')"
      ],
      "execution_count": 0,
      "outputs": []
    },
    {
      "cell_type": "code",
      "metadata": {
        "colab_type": "code",
        "id": "u9UE9rL0kdVr",
        "colab": {}
      },
      "source": [
        "pd.crosstab(index=df['income'], columns=df['race'], normalize='columns')"
      ],
      "execution_count": 0,
      "outputs": []
    },
    {
      "cell_type": "code",
      "metadata": {
        "colab_type": "code",
        "id": "QUXcC689kdWC",
        "colab": {}
      },
      "source": [
        "pd.crosstab(index=df['income'], columns=df['sex'], normalize='columns')"
      ],
      "execution_count": 0,
      "outputs": []
    },
    {
      "cell_type": "code",
      "metadata": {
        "colab_type": "code",
        "id": "iTmX4BaHkdWh",
        "colab": {}
      },
      "source": [
        "pd.crosstab(index=df['income'], columns=df['native-country'], normalize='columns')"
      ],
      "execution_count": 0,
      "outputs": []
    },
    {
      "cell_type": "markdown",
      "metadata": {
        "colab_type": "text",
        "id": "z8aYsaAXoPSl"
      },
      "source": [
        "### 4.4. 特徴量間の関係の分析"
      ]
    },
    {
      "cell_type": "markdown",
      "metadata": {
        "colab_type": "text",
        "id": "34YG_TGXkdXC"
      },
      "source": [
        "#### \"education\" vs \"education-num\"\n",
        "下図から同値だと判断できるため、\"education\"は除外することにします。"
      ]
    },
    {
      "cell_type": "code",
      "metadata": {
        "colab_type": "code",
        "id": "TS20u-8rkdXD",
        "colab": {}
      },
      "source": [
        "sns.boxplot(y='education', x='education-num', data=df)"
      ],
      "execution_count": 0,
      "outputs": []
    },
    {
      "cell_type": "markdown",
      "metadata": {
        "colab_type": "text",
        "id": "DkdDkAl0_oWa"
      },
      "source": [
        "### 4.5. 欠損値のチェック\n",
        "\n",
        "欠損値があるので、あとでこのレコードを削除します。"
      ]
    },
    {
      "cell_type": "code",
      "metadata": {
        "colab_type": "code",
        "id": "N6leoX5SkdR4",
        "colab": {}
      },
      "source": [
        "df.isnull().sum()"
      ],
      "execution_count": 0,
      "outputs": []
    },
    {
      "cell_type": "markdown",
      "metadata": {
        "id": "8zZeW3IQS5pQ",
        "colab_type": "text"
      },
      "source": [
        "## 5. データ前処理"
      ]
    },
    {
      "cell_type": "markdown",
      "metadata": {
        "id": "k0px8GmQS5pS",
        "colab_type": "text"
      },
      "source": [
        "### 5.1. 前処理をする前の状態"
      ]
    },
    {
      "cell_type": "code",
      "metadata": {
        "id": "Ze5_-CSMS5pW",
        "colab_type": "code",
        "colab": {}
      },
      "source": [
        "df.head(10)"
      ],
      "execution_count": 0,
      "outputs": []
    },
    {
      "cell_type": "markdown",
      "metadata": {
        "id": "I0C678IlS5pc",
        "colab_type": "text"
      },
      "source": [
        "### 5.2. 欠損値のあるレコードの削除"
      ]
    },
    {
      "cell_type": "code",
      "metadata": {
        "id": "eBkwG7n5S5pd",
        "colab_type": "code",
        "colab": {}
      },
      "source": [
        "df = df.dropna()\n",
        "df.isnull().sum()"
      ],
      "execution_count": 0,
      "outputs": []
    },
    {
      "cell_type": "markdown",
      "metadata": {
        "id": "HXBPY1HRS5pj",
        "colab_type": "text"
      },
      "source": [
        "### 5.3. ラベルの作成\n",
        "データから\"income\"列を抜き出し、\"<=50K\", \">50K\"をそれぞれ0, 1の数値に変換します。"
      ]
    },
    {
      "cell_type": "code",
      "metadata": {
        "id": "tu2vzaLXS5pk",
        "colab_type": "code",
        "colab": {}
      },
      "source": [
        "ys = pd.get_dummies(df['income'], drop_first=True)\n",
        "ys.head(10)"
      ],
      "execution_count": 0,
      "outputs": []
    },
    {
      "cell_type": "markdown",
      "metadata": {
        "id": "_mSDDAx4S5pr",
        "colab_type": "text"
      },
      "source": [
        "### 5.4. 不要な特徴量の削除\n",
        " * \"income\"はラベルなので削除\n",
        " * \"fnlwgt\"はラベルと相関がないので削除\n",
        " * \"education\"は\"education-num\"と同一の特徴なので削除"
      ]
    },
    {
      "cell_type": "code",
      "metadata": {
        "colab_type": "code",
        "id": "Jk876WGhkdYG",
        "colab": {}
      },
      "source": [
        "drop_columns = ['income', 'fnlwgt', 'education']\n",
        "df = df.drop(drop_columns, axis=1)\n",
        "df.head(10)"
      ],
      "execution_count": 0,
      "outputs": []
    },
    {
      "cell_type": "markdown",
      "metadata": {
        "id": "VqSHxuYBS5p3",
        "colab_type": "text"
      },
      "source": [
        "### 5.5. 質的変数のダミー化"
      ]
    },
    {
      "cell_type": "code",
      "metadata": {
        "colab_type": "code",
        "id": "_osB_7_YkdXw",
        "colab": {}
      },
      "source": [
        "xs = pd.get_dummies(df)\n",
        "xs.head(10)"
      ],
      "execution_count": 0,
      "outputs": []
    },
    {
      "cell_type": "markdown",
      "metadata": {
        "colab_type": "text",
        "id": "cc_FNTlQPqbK"
      },
      "source": [
        "## 6. 学習モデルの作成"
      ]
    },
    {
      "cell_type": "markdown",
      "metadata": {
        "colab_type": "text",
        "id": "nlFWVy0iPuOQ"
      },
      "source": [
        "### 6.1. データ分割\n",
        "データを訓練データ・検証データ・テストデータの3つに分割します。\n",
        "\n",
        "まず、全体の20%をテストデータに回し、残ったデータの20%を検証データに回します。"
      ]
    },
    {
      "cell_type": "code",
      "metadata": {
        "colab_type": "code",
        "id": "Ve5UEue9kdYL",
        "colab": {}
      },
      "source": [
        "all_xs = xs.values\n",
        "all_ys = ys.values\n",
        "tmp_xs, test_xs, tmp_ys, test_ys = train_test_split(all_xs, all_ys, test_size=0.2)\n",
        "train_xs, valid_xs, train_ys, valid_ys = train_test_split(tmp_xs, tmp_ys, test_size=0.2)\n",
        "print(train_xs.shape, valid_xs.shape, test_xs.shape, train_ys.shape, valid_ys.shape, test_ys.shape)"
      ],
      "execution_count": 0,
      "outputs": []
    },
    {
      "cell_type": "markdown",
      "metadata": {
        "id": "2IvpibJLS5qL",
        "colab_type": "text"
      },
      "source": [
        "### 6.2. 正規化\n",
        "特徴量を $0.0\\le{}x\\le{}1.0$ の範囲に収まるように正規化します。"
      ]
    },
    {
      "cell_type": "code",
      "metadata": {
        "colab_type": "code",
        "id": "X4kxwQGpkdYO",
        "colab": {}
      },
      "source": [
        "scaler = MinMaxScaler()\n",
        "scaler.fit(all_xs)\n",
        "train_xs = scaler.transform(train_xs)\n",
        "valid_xs = scaler.transform(valid_xs)\n",
        "test_xs = scaler.transform(test_xs)"
      ],
      "execution_count": 0,
      "outputs": []
    },
    {
      "cell_type": "markdown",
      "metadata": {
        "colab_type": "text",
        "id": "alb4RE-WQe_P"
      },
      "source": [
        "### 6.3. 学習モデル構築"
      ]
    },
    {
      "cell_type": "markdown",
      "metadata": {
        "id": "t0jqwl2AS5qW",
        "colab_type": "text"
      },
      "source": [
        "まずは単層のパーセプトロンモデルを作りましょう。\n",
        " * パラメータ数は特徴量の数と同じ\n",
        " * 出力次元数は2値分類なので1"
      ]
    },
    {
      "cell_type": "code",
      "metadata": {
        "colab_type": "code",
        "id": "Qwom5RqNkdYU",
        "colab": {}
      },
      "source": [
        "model = tf.keras.models.Sequential([\n",
        "    tf.keras.layers.Dense(1, input_dim=train_xs.shape[1], activation='sigmoid')\n",
        "])"
      ],
      "execution_count": 0,
      "outputs": []
    },
    {
      "cell_type": "code",
      "metadata": {
        "id": "4GTR03FCS5qd",
        "colab_type": "code",
        "colab": {}
      },
      "source": [
        "model.compile(optimizer='adam', loss='binary_crossentropy', metrics=['accuracy'])\n",
        "model.summary()"
      ],
      "execution_count": 0,
      "outputs": []
    },
    {
      "cell_type": "markdown",
      "metadata": {
        "colab_type": "text",
        "id": "iEkLHs8NQ-hA"
      },
      "source": [
        "## 7. 学習モデルの評価"
      ]
    },
    {
      "cell_type": "markdown",
      "metadata": {
        "colab_type": "text",
        "id": "K3HzKuHmQ5hU"
      },
      "source": [
        "### 7.1. 学習実行\n",
        "\n",
        "実際に学習\n",
        "エポック（すべての訓練データを1回学習させることを**1エポック**と呼びます）ごとに、訓練データ・検証データそれぞれに対する損失・正答率が出力されます。\n",
        " * `loss` : 訓練データの損失\n",
        " * `acc` : 訓練データの正答率\n",
        " * `val_loss`: 検証データの損失\n",
        " * `val_acc`: 検証データの正答率"
      ]
    },
    {
      "cell_type": "code",
      "metadata": {
        "colab_type": "code",
        "id": "xmNZQbg-kdYo",
        "colab": {}
      },
      "source": [
        "hist = model.fit(train_xs, train_ys, batch_size=128, epochs=100, validation_data=(valid_xs, valid_ys))"
      ],
      "execution_count": 0,
      "outputs": []
    },
    {
      "cell_type": "markdown",
      "metadata": {
        "colab_type": "text",
        "id": "Ohd0_gD0R5i4"
      },
      "source": [
        "### 7.2. モデルの評価\n",
        "訓練データ・学習データに対する損失と正答率をグラフ化してみましょう。"
      ]
    },
    {
      "cell_type": "code",
      "metadata": {
        "colab_type": "code",
        "id": "PFR-o8vJkdYw",
        "colab": {}
      },
      "source": [
        "%matplotlib inline\n",
        "plt.figure(figsize=(12, 4))\n",
        "plt.subplot(1, 2, 1)\n",
        "plt.plot(range(1, 101), hist.history[\"loss\"])\n",
        "plt.plot(range(1, 101), hist.history[\"val_loss\"])\n",
        "plt.title(\"loss\")\n",
        "plt.xlabel(\"epoch\")\n",
        "plt.ylabel(\"loss\")\n",
        "plt.subplot(1, 2, 2)\n",
        "plt.plot(range(1, 101), hist.history[\"acc\"])\n",
        "plt.plot(range(1, 101), hist.history[\"val_acc\"])\n",
        "plt.title(\"accuracy\")\n",
        "plt.xlabel(\"epoch\")\n",
        "plt.ylabel(\"accuracy\")"
      ],
      "execution_count": 0,
      "outputs": []
    },
    {
      "cell_type": "markdown",
      "metadata": {
        "id": "I8gp8GaqS5rH",
        "colab_type": "text"
      },
      "source": [
        "テストデータに対する性能を求めてみましょう。"
      ]
    },
    {
      "cell_type": "code",
      "metadata": {
        "colab_type": "code",
        "id": "JelU5jhWkdY5",
        "colab": {}
      },
      "source": [
        "pred = model.predict_classes(test_xs, batch_size=128)\n",
        "accuracy = accuracy_score(test_ys, pred)\n",
        "precision = precision_score(test_ys, pred)\n",
        "recall = recall_score(test_ys, pred)\n",
        "f1 = f1_score(test_ys, pred)\n",
        "print(\"accuracy = {:.2f}, precision = {:.2f}, recall = {:.2f}, F1-score = {:.2f}\".format(accuracy, precision, recall, f1))"
      ],
      "execution_count": 0,
      "outputs": []
    },
    {
      "cell_type": "markdown",
      "metadata": {
        "id": "HyAFbiY1S5rX",
        "colab_type": "text"
      },
      "source": [
        "### 7.3. 別のモデルの評価\n",
        "今度はパーセプトロンを3層にしたモデルを試してみましょう。"
      ]
    },
    {
      "cell_type": "code",
      "metadata": {
        "colab_type": "code",
        "id": "OI-PHYDpkdYY",
        "colab": {}
      },
      "source": [
        "model = tf.keras.models.Sequential([\n",
        "    tf.keras.layers.Dense(128, input_dim=train_xs.shape[1], activation='relu'),\n",
        "    tf.keras.layers.Dense(128, activation='relu'),\n",
        "    tf.keras.layers.Dense(1, activation='sigmoid')\n",
        "])"
      ],
      "execution_count": 0,
      "outputs": []
    },
    {
      "cell_type": "code",
      "metadata": {
        "id": "_ypIY0MUS5rn",
        "colab_type": "code",
        "colab": {}
      },
      "source": [
        "model.compile(optimizer='adam', loss='binary_crossentropy', metrics=['accuracy'])\n",
        "model.summary()"
      ],
      "execution_count": 0,
      "outputs": []
    },
    {
      "cell_type": "code",
      "metadata": {
        "id": "xR-tvd1YUBec",
        "colab_type": "code",
        "colab": {}
      },
      "source": [
        "hist = model.fit(train_xs, train_ys, batch_size=128, epochs=100, validation_data=(valid_xs, valid_ys))"
      ],
      "execution_count": 0,
      "outputs": []
    },
    {
      "cell_type": "code",
      "metadata": {
        "id": "AfJB8ORHUOtb",
        "colab_type": "code",
        "colab": {}
      },
      "source": [
        "%matplotlib inline\n",
        "plt.figure(figsize=(12, 4))\n",
        "plt.subplot(1, 2, 1)\n",
        "plt.plot(range(1, 101), hist.history[\"loss\"])\n",
        "plt.plot(range(1, 101), hist.history[\"val_loss\"])\n",
        "plt.title(\"loss\")\n",
        "plt.xlabel(\"epoch\")\n",
        "plt.ylabel(\"loss\")\n",
        "plt.subplot(1, 2, 2)\n",
        "plt.plot(range(1, 101), hist.history[\"acc\"])\n",
        "plt.plot(range(1, 101), hist.history[\"val_acc\"])\n",
        "plt.title(\"accuracy\")\n",
        "plt.xlabel(\"epoch\")\n",
        "plt.ylabel(\"accuracy\")"
      ],
      "execution_count": 0,
      "outputs": []
    },
    {
      "cell_type": "code",
      "metadata": {
        "id": "i-MxulOCUQd3",
        "colab_type": "code",
        "colab": {}
      },
      "source": [
        "pred = model.predict_classes(test_xs, batch_size=128)\n",
        "accuracy = accuracy_score(test_ys, pred)\n",
        "precision = precision_score(test_ys, pred)\n",
        "recall = recall_score(test_ys, pred)\n",
        "f1 = f1_score(test_ys, pred)\n",
        "print(\"accuracy = {:.2f}, precision = {:.2f}, recall = {:.2f}, F1-score = {:.2f}\".format(accuracy, precision, recall, f1))"
      ],
      "execution_count": 0,
      "outputs": []
    },
    {
      "cell_type": "markdown",
      "metadata": {
        "id": "kA-883CNTsY0",
        "colab_type": "text"
      },
      "source": [
        "## 8. 課題"
      ]
    },
    {
      "cell_type": "markdown",
      "metadata": {
        "id": "-P45t7Q1S5sm",
        "colab_type": "text"
      },
      "source": [
        " 1. 特徴量を年齢(\"age\")だけにしたときにどの程度の性能が出るか、試してみましょう。\n",
        " 1. 層数や各層のノード数を変えたモデルを作って試してみましょう。"
      ]
    },
    {
      "cell_type": "markdown",
      "metadata": {
        "id": "wDOmgyNvkEHX",
        "colab_type": "text"
      },
      "source": [
        "## 9. さいごに\n",
        "\n",
        "Kaggleに[このデータセットのカーネル](https://www.kaggle.com/uciml/adult-census-income/kernels)が数多く公開されています。\n",
        "これを見て、ほかの人がどのようにこのデータセットの分析を行っているのかを勉強してみてください。"
      ]
    }
  ]
}