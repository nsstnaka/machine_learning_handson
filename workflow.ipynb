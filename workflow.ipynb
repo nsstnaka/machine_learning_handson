{
 "cells": [
  {
   "cell_type": "markdown",
   "metadata": {
    "colab_type": "text",
    "id": "zXGU5pQyqTa3"
   },
   "source": [
    "# 機械学習ハンズオン（ワークフロー編）"
   ]
  },
  {
   "cell_type": "markdown",
   "metadata": {
    "colab_type": "text",
    "id": "1XffT4RcukyM"
   },
   "source": [
    "## 1. ハンズオンの概要\n",
    "\n",
    "[UCIのAdultデータセット](https://archive.ics.uci.edu/ml/datasets/Adult)を使って、\n",
    "年齢や職業などのデータから、その人の収入が5万ドル以上あるかどうかの2値分類(binary classification)を行います。\n",
    "\n",
    "このハンズオンの流れは次のとおりです。\n",
    " 1. データの取得\n",
    " 1. データの分析\n",
    " 1. データの前処理\n",
    " 1. 学習モデルの作成\n",
    " 1. 学習モデルの評価\n"
   ]
  },
  {
   "cell_type": "markdown",
   "metadata": {
    "colab_type": "text",
    "id": "2IR9nUYhqa4O"
   },
   "source": [
    "## 2. 事前準備"
   ]
  },
  {
   "cell_type": "markdown",
   "metadata": {
    "colab_type": "text",
    "id": "hpHuphVKOYAV"
   },
   "source": [
    "### 2.1. ランタイムの確認\n",
    "\n",
    "Google Colabを使っている場合は、メニューから「ランタイム」→「ランタイムのタイプを変更」を選択して、「ハードウェア アクセラレータ」を「GPU」に設定してください。\n"
   ]
  },
  {
   "cell_type": "markdown",
   "metadata": {
    "colab_type": "text",
    "id": "BwEY6hKtOQgf"
   },
   "source": [
    "### 2.2. ライブラリのロード"
   ]
  },
  {
   "cell_type": "code",
   "execution_count": null,
   "metadata": {
    "colab": {
     "base_uri": "https://localhost:8080/",
     "height": 545
    },
    "colab_type": "code",
    "id": "J0xv_s4AkdQl",
    "outputId": "2736083f-71c5-4823-bfb8-9629e6390366"
   },
   "outputs": [],
   "source": [
    "!pip install pandas tensorflow numpy matplotlib seaborn scikit-learn\n",
    "import pandas as pd\n",
    "import tensorflow as tf\n",
    "import numpy as np\n",
    "import matplotlib.pyplot as plt\n",
    "import seaborn as sns\n",
    "from sklearn.model_selection import train_test_split\n",
    "from sklearn.preprocessing import MinMaxScaler\n",
    "from sklearn.metrics import accuracy_score, precision_score, recall_score, f1_score"
   ]
  },
  {
   "cell_type": "markdown",
   "metadata": {
    "colab_type": "text",
    "id": "aMPsmjpaql49"
   },
   "source": [
    "## 3. データ取得"
   ]
  },
  {
   "cell_type": "markdown",
   "metadata": {
    "colab_type": "text",
    "id": "BJQtfRoikdRC"
   },
   "source": [
    "pandasのAPIを使ってデータファイルを読み込みます。\n",
    " * このファイルにはヘッダー行がないので、ヘッダーは自分で設定します。\n",
    " * 不明値を表す \"?\" はN/Aに変換しておきます。\n",
    "   * のちほど不明値を処理します。"
   ]
  },
  {
   "cell_type": "code",
   "execution_count": null,
   "metadata": {
    "colab": {
     "base_uri": "https://localhost:8080/",
     "height": 72
    },
    "colab_type": "code",
    "id": "WqRc64tnkdRF",
    "outputId": "953ffe9c-0465-44d7-a204-0f64bd580c81"
   },
   "outputs": [],
   "source": [
    "headers = ('age', 'workclass', 'fnlwgt', 'education', 'education-num', 'marital-status', 'occupation', 'relationship', 'race', 'sex', 'capital-gain', 'capital-loss', 'hours-per-week', 'native-country', 'income')\n",
    "df = pd.read_csv('https://archive.ics.uci.edu/ml/machine-learning-databases/adult/adult.data', sep=', ', names=headers, na_values='?')"
   ]
  },
  {
   "cell_type": "markdown",
   "metadata": {
    "colab_type": "text",
    "id": "wX0dzuzTkdRo"
   },
   "source": [
    "読み込んだデータを表示してみましょう。"
   ]
  },
  {
   "cell_type": "code",
   "execution_count": null,
   "metadata": {
    "colab": {
     "base_uri": "https://localhost:8080/",
     "height": 511
    },
    "colab_type": "code",
    "id": "061oX1mlkdRq",
    "outputId": "f37a6a6b-16cc-49b1-f758-66eb6b230762"
   },
   "outputs": [],
   "source": [
    "df.head(10)"
   ]
  },
  {
   "cell_type": "markdown",
   "metadata": {
    "colab_type": "text",
    "id": "yjh0diHeSs51"
   },
   "source": [
    "## 4. データ分析"
   ]
  },
  {
   "cell_type": "markdown",
   "metadata": {
    "colab_type": "text",
    "id": "b9WMSN96YIPd"
   },
   "source": [
    "### 4.1. ラベルごとのデータ件数\n",
    "\n",
    "5万ドル未満が約76%あるので、**学習モデルがすべて5万ドル未満と予測しても76%前後の正答率が出てしまう**ことに注意が必要です。"
   ]
  },
  {
   "cell_type": "code",
   "execution_count": null,
   "metadata": {
    "colab": {
     "base_uri": "https://localhost:8080/",
     "height": 87
    },
    "colab_type": "code",
    "id": "X55ihWB9aUG3",
    "outputId": "d69ee443-9998-4d5c-88f1-ad104d772bbe"
   },
   "outputs": [],
   "source": [
    "df.groupby('income').size()"
   ]
  },
  {
   "cell_type": "code",
   "execution_count": null,
   "metadata": {
    "colab": {
     "base_uri": "https://localhost:8080/",
     "height": 87
    },
    "colab_type": "code",
    "id": "cmsdXdgU_-39",
    "outputId": "a84d906d-ec3d-4afe-aca1-6401cfd8002c"
   },
   "outputs": [],
   "source": [
    "df.groupby('income').size() / len(df)"
   ]
  },
  {
   "cell_type": "markdown",
   "metadata": {
    "colab_type": "text",
    "id": "GNWs3TrmnIlo"
   },
   "source": [
    "### 4.2. 量的変数の分析"
   ]
  },
  {
   "cell_type": "markdown",
   "metadata": {
    "colab_type": "text",
    "id": "KpFv5-ukgovx"
   },
   "source": [
    "#### ラベル別の特徴量の分布\n",
    "fntwgtは、5万ドル超も5万ドル以下も同じ分布を取っているので、ラベルとは無関係と判断し、特徴量から除外することにします。"
   ]
  },
  {
   "cell_type": "code",
   "execution_count": null,
   "metadata": {
    "colab": {
     "base_uri": "https://localhost:8080/",
     "height": 607
    },
    "colab_type": "code",
    "id": "-Nu78QjqbYp7",
    "outputId": "4513c2ba-5f38-42a0-ea5e-9390a7bce4b1"
   },
   "outputs": [],
   "source": [
    "plt.figure(figsize=(20, 10))\n",
    "features = ['age', 'fnlwgt', 'education-num', 'capital-gain', 'capital-loss', 'hours-per-week']\n",
    "for i in range(len(features)):\n",
    "  plt.subplot(2, 3, i+1)\n",
    "  plt.title(features[i])\n",
    "  sns.kdeplot(df[df['income']=='<=50K'][features[i]], label='<=50K')\n",
    "  sns.kdeplot(df[df['income']=='>50K'][features[i]], label='>50K')\n"
   ]
  },
  {
   "cell_type": "code",
   "execution_count": null,
   "metadata": {
    "colab": {
     "base_uri": "https://localhost:8080/",
     "height": 300
    },
    "colab_type": "code",
    "id": "8guTPnhs7VWB",
    "outputId": "124bf516-d35d-4613-a2ca-bc08b543801d"
   },
   "outputs": [],
   "source": [
    "df[df['income']=='<=50K'].describe()"
   ]
  },
  {
   "cell_type": "code",
   "execution_count": null,
   "metadata": {},
   "outputs": [],
   "source": [
    "df[df['income']=='>50K'].describe()"
   ]
  },
  {
   "cell_type": "markdown",
   "metadata": {
    "colab_type": "text",
    "id": "6X2BHAHPnr8D"
   },
   "source": [
    "### 4.3. 質的変数の分析"
   ]
  },
  {
   "cell_type": "markdown",
   "metadata": {
    "colab_type": "text",
    "id": "aUuVWUIrnw4x"
   },
   "source": [
    "#### ラベル別の特徴量の分布"
   ]
  },
  {
   "cell_type": "code",
   "execution_count": null,
   "metadata": {
    "colab": {
     "base_uri": "https://localhost:8080/",
     "height": 136
    },
    "colab_type": "code",
    "id": "HIBAg21BkdTm",
    "outputId": "695d1216-dd39-40c7-e03c-f79c9f48191f"
   },
   "outputs": [],
   "source": [
    "pd.crosstab(index=df['income'], columns=df['workclass'], normalize='columns')"
   ]
  },
  {
   "cell_type": "code",
   "execution_count": null,
   "metadata": {
    "colab": {},
    "colab_type": "code",
    "id": "jXfVPMp1kdUE",
    "outputId": "5ad1167e-e454-4e07-fcca-3105534a4900"
   },
   "outputs": [],
   "source": [
    "pd.crosstab(index=df['income'], columns=df['marital-status'], normalize='columns')"
   ]
  },
  {
   "cell_type": "code",
   "execution_count": null,
   "metadata": {
    "colab": {},
    "colab_type": "code",
    "id": "JyDBXqlPkdU5",
    "outputId": "abbc88bc-c404-4f8b-f999-c437e587ab67"
   },
   "outputs": [],
   "source": [
    "pd.crosstab(index=df['income'], columns=df['occupation'], normalize='columns')"
   ]
  },
  {
   "cell_type": "code",
   "execution_count": null,
   "metadata": {
    "colab": {},
    "colab_type": "code",
    "id": "Wn70CIUlkdVX",
    "outputId": "25ab0e0f-56a2-48df-cfe1-c86154db6778"
   },
   "outputs": [],
   "source": [
    "pd.crosstab(index=df['income'], columns=df['relationship'], normalize='columns')"
   ]
  },
  {
   "cell_type": "code",
   "execution_count": null,
   "metadata": {
    "colab": {},
    "colab_type": "code",
    "id": "u9UE9rL0kdVr",
    "outputId": "5785e01b-36e4-4f67-eeb9-91146ce67703"
   },
   "outputs": [],
   "source": [
    "pd.crosstab(index=df['income'], columns=df['race'], normalize='columns')"
   ]
  },
  {
   "cell_type": "code",
   "execution_count": null,
   "metadata": {
    "colab": {},
    "colab_type": "code",
    "id": "QUXcC689kdWC",
    "outputId": "9d54d5f5-de35-4706-9219-a181505288bc"
   },
   "outputs": [],
   "source": [
    "pd.crosstab(index=df['income'], columns=df['sex'], normalize='columns')"
   ]
  },
  {
   "cell_type": "code",
   "execution_count": null,
   "metadata": {
    "colab": {},
    "colab_type": "code",
    "id": "iTmX4BaHkdWh",
    "outputId": "ffc84c9c-5b60-496b-f121-e41b26f5115f"
   },
   "outputs": [],
   "source": [
    "pd.crosstab(index=df['income'], columns=df['native-country'], normalize='columns')"
   ]
  },
  {
   "cell_type": "markdown",
   "metadata": {
    "colab_type": "text",
    "id": "z8aYsaAXoPSl"
   },
   "source": [
    "### 4.4. 特徴量間の関係の分析"
   ]
  },
  {
   "cell_type": "markdown",
   "metadata": {
    "colab_type": "text",
    "id": "34YG_TGXkdXC"
   },
   "source": [
    "#### \"education\" vs \"education-num\"\n",
    "下図から同値だと判断できるため、\"education\"は除外することにします。"
   ]
  },
  {
   "cell_type": "code",
   "execution_count": null,
   "metadata": {
    "colab": {},
    "colab_type": "code",
    "id": "TS20u-8rkdXD",
    "outputId": "adae7792-741a-4169-8cce-69ba66be572e"
   },
   "outputs": [],
   "source": [
    "sns.boxplot(y='education', x='education-num', data=df)"
   ]
  },
  {
   "cell_type": "markdown",
   "metadata": {
    "colab_type": "text",
    "id": "DkdDkAl0_oWa"
   },
   "source": [
    "### 4.5. 欠損値のチェック\n",
    "\n",
    "欠損値があるので、あとでこのレコードを削除します。"
   ]
  },
  {
   "cell_type": "code",
   "execution_count": null,
   "metadata": {
    "colab": {
     "base_uri": "https://localhost:8080/",
     "height": 301
    },
    "colab_type": "code",
    "id": "N6leoX5SkdR4",
    "outputId": "cf41d9c6-c1fc-4767-9333-908d34402983"
   },
   "outputs": [],
   "source": [
    "df.isnull().sum()"
   ]
  },
  {
   "cell_type": "markdown",
   "metadata": {},
   "source": [
    "## 5. データ前処理"
   ]
  },
  {
   "cell_type": "markdown",
   "metadata": {},
   "source": [
    "### 5.1. 前処理をする前の状態"
   ]
  },
  {
   "cell_type": "code",
   "execution_count": null,
   "metadata": {},
   "outputs": [],
   "source": [
    "df.head(10)"
   ]
  },
  {
   "cell_type": "markdown",
   "metadata": {},
   "source": [
    "### 5.2. 欠損値のあるレコードの削除"
   ]
  },
  {
   "cell_type": "code",
   "execution_count": null,
   "metadata": {},
   "outputs": [],
   "source": [
    "df = df.dropna()\n",
    "df.isnull().sum()"
   ]
  },
  {
   "cell_type": "markdown",
   "metadata": {},
   "source": [
    "### 5.3. ラベルの作成\n",
    "データから\"income\"列を抜き出し、\"<=50K\", \">50K\"をそれぞれ0, 1の数値に変換します。"
   ]
  },
  {
   "cell_type": "code",
   "execution_count": null,
   "metadata": {},
   "outputs": [],
   "source": [
    "ys = pd.get_dummies(df['income'], drop_first=True)\n",
    "ys.head(10)"
   ]
  },
  {
   "cell_type": "markdown",
   "metadata": {},
   "source": [
    "### 5.4. 不要な特徴量の削除\n",
    " * \"income\"はラベルなので削除\n",
    " * \"fnlwgt\"はラベルと相関がないので削除\n",
    " * \"education\"は\"education-num\"と同一の特徴なので削除"
   ]
  },
  {
   "cell_type": "code",
   "execution_count": null,
   "metadata": {
    "colab": {
     "base_uri": "https://localhost:8080/",
     "height": 2047
    },
    "colab_type": "code",
    "id": "Jk876WGhkdYG",
    "outputId": "3bf35136-f52c-43ab-a0cf-e23bf578664b"
   },
   "outputs": [],
   "source": [
    "drop_columns = ['income', 'fnlwgt', 'education']\n",
    "df = df.drop(drop_columns, axis=1)\n",
    "df.head(10)"
   ]
  },
  {
   "cell_type": "markdown",
   "metadata": {},
   "source": [
    "### 5.5. 質的変数のダミー化"
   ]
  },
  {
   "cell_type": "code",
   "execution_count": null,
   "metadata": {
    "colab": {},
    "colab_type": "code",
    "id": "_osB_7_YkdXw",
    "outputId": "b378b711-f247-4cbb-dfc6-1a2a8d755cf3"
   },
   "outputs": [],
   "source": [
    "xs = pd.get_dummies(df)\n",
    "xs.head(10)"
   ]
  },
  {
   "cell_type": "markdown",
   "metadata": {
    "colab_type": "text",
    "id": "cc_FNTlQPqbK"
   },
   "source": [
    "## 6. 学習モデルの作成"
   ]
  },
  {
   "cell_type": "markdown",
   "metadata": {
    "colab_type": "text",
    "id": "nlFWVy0iPuOQ"
   },
   "source": [
    "### 6.1. データ分割\n",
    "データを訓練データ・検証データ・テストデータの3つに分割します。\n",
    "\n",
    "まず、全体の20%をテストデータに回し、残ったデータの20%を検証データに回します。"
   ]
  },
  {
   "cell_type": "code",
   "execution_count": null,
   "metadata": {
    "colab": {
     "base_uri": "https://localhost:8080/",
     "height": 35
    },
    "colab_type": "code",
    "id": "Ve5UEue9kdYL",
    "outputId": "074631f2-5668-40a1-8cde-4bc03daf023d"
   },
   "outputs": [],
   "source": [
    "all_xs = xs.values\n",
    "all_ys = ys.values\n",
    "tmp_xs, test_xs, tmp_ys, test_ys = train_test_split(all_xs, all_ys, test_size=0.2)\n",
    "train_xs, valid_xs, train_ys, valid_ys = train_test_split(tmp_xs, tmp_ys, test_size=0.2)\n",
    "print(train_xs.shape, valid_xs.shape, test_xs.shape, train_ys.shape, valid_ys.shape, test_ys.shape)"
   ]
  },
  {
   "cell_type": "markdown",
   "metadata": {},
   "source": [
    "### 6.2. 正規化\n",
    "特徴量を $0.0\\le{}x\\le{}1.0$ の範囲に収まるように正規化します。"
   ]
  },
  {
   "cell_type": "code",
   "execution_count": null,
   "metadata": {
    "colab": {},
    "colab_type": "code",
    "id": "X4kxwQGpkdYO"
   },
   "outputs": [],
   "source": [
    "scaler = MinMaxScaler()\n",
    "scaler.fit(all_xs)\n",
    "train_xs = scaler.transform(train_xs)\n",
    "valid_xs = scaler.transform(valid_xs)\n",
    "test_xs = scaler.transform(test_xs)"
   ]
  },
  {
   "cell_type": "markdown",
   "metadata": {
    "colab_type": "text",
    "id": "alb4RE-WQe_P"
   },
   "source": [
    "### 6.3. 学習モデル構築"
   ]
  },
  {
   "cell_type": "markdown",
   "metadata": {},
   "source": [
    "まずは単層のパーセプトロンモデルを作りましょう。\n",
    " * パラメータ数は特徴量の数と同じ\n",
    " * 出力次元数は2値分類なので1"
   ]
  },
  {
   "cell_type": "code",
   "execution_count": null,
   "metadata": {
    "colab": {
     "base_uri": "https://localhost:8080/",
     "height": 90
    },
    "colab_type": "code",
    "id": "Qwom5RqNkdYU",
    "outputId": "1eb162f3-de3d-46b5-9daf-4f31092b6da0"
   },
   "outputs": [],
   "source": [
    "model = tf.keras.models.Sequential([\n",
    "    tf.keras.layers.Dense(1, input_dim=train_xs.shape[1], activation='sigmoid')\n",
    "])"
   ]
  },
  {
   "cell_type": "code",
   "execution_count": null,
   "metadata": {},
   "outputs": [],
   "source": [
    "model.compile(optimizer='adam', loss='binary_crossentropy', metrics=['accuracy'])\n",
    "model.summary()"
   ]
  },
  {
   "cell_type": "markdown",
   "metadata": {
    "colab_type": "text",
    "id": "iEkLHs8NQ-hA"
   },
   "source": [
    "## 7. 学習モデルの評価"
   ]
  },
  {
   "cell_type": "markdown",
   "metadata": {
    "colab_type": "text",
    "id": "K3HzKuHmQ5hU"
   },
   "source": [
    "### 7.1. 学習実行\n",
    "\n",
    "実際に学習\n",
    "エポック（すべての訓練データを1回学習させることを**1エポック**と呼びます）ごとに、訓練データ・検証データそれぞれに対する損失・正答率が出力されます。\n",
    " * `loss` : 訓練データの損失\n",
    " * `acc` : 訓練データの正答率\n",
    " * `val_loss`: 検証データの損失\n",
    " * `val_acc`: 検証データの正答率"
   ]
  },
  {
   "cell_type": "code",
   "execution_count": null,
   "metadata": {
    "colab": {
     "base_uri": "https://localhost:8080/",
     "height": 4035
    },
    "colab_type": "code",
    "id": "xmNZQbg-kdYo",
    "outputId": "ee15fae6-39b6-4a89-ac30-a45556e0aa52"
   },
   "outputs": [],
   "source": [
    "hist = model.fit(train_xs, train_ys, batch_size=128, epochs=100, validation_data=(valid_xs, valid_ys))"
   ]
  },
  {
   "cell_type": "markdown",
   "metadata": {
    "colab_type": "text",
    "id": "Ohd0_gD0R5i4"
   },
   "source": [
    "### 7.2. モデルの評価\n",
    "訓練データ・学習データに対する損失と正答率をグラフ化してみましょう。"
   ]
  },
  {
   "cell_type": "code",
   "execution_count": null,
   "metadata": {
    "colab": {
     "base_uri": "https://localhost:8080/",
     "height": 313
    },
    "colab_type": "code",
    "id": "PFR-o8vJkdYw",
    "outputId": "f78dfb1f-4b2e-4fa5-b06f-1a46b166d27a"
   },
   "outputs": [],
   "source": [
    "%matplotlib inline\n",
    "plt.figure(figsize=(12, 4))\n",
    "plt.subplot(1, 2, 1)\n",
    "plt.plot(range(1, 101), hist.history[\"loss\"])\n",
    "plt.plot(range(1, 101), hist.history[\"val_loss\"])\n",
    "plt.title(\"loss\")\n",
    "plt.xlabel(\"epoch\")\n",
    "plt.ylabel(\"loss\")\n",
    "plt.subplot(1, 2, 2)\n",
    "plt.plot(range(1, 101), hist.history[\"acc\"])\n",
    "plt.plot(range(1, 101), hist.history[\"val_acc\"])\n",
    "plt.title(\"accuracy\")\n",
    "plt.xlabel(\"epoch\")\n",
    "plt.ylabel(\"accuracy\")"
   ]
  },
  {
   "cell_type": "markdown",
   "metadata": {},
   "source": [
    "テストデータに対する性能を求めてみましょう。"
   ]
  },
  {
   "cell_type": "code",
   "execution_count": null,
   "metadata": {
    "colab": {},
    "colab_type": "code",
    "id": "JelU5jhWkdY5",
    "outputId": "2eaa615b-f6ce-48bd-fef2-86210c603eb7"
   },
   "outputs": [],
   "source": [
    "pred = model.predict_classes(test_xs, batch_size=128)\n",
    "accuracy = accuracy_score(test_ys, pred)\n",
    "precision = precision_score(test_ys, pred)\n",
    "recall = recall_score(test_ys, pred)\n",
    "f1 = f1_score(test_ys, pred)\n",
    "print(\"accuracy = {:.2f}, precision = {:.2f}, recall = {:.2f}, F1-score = {:.2f}\".format(accuracy, precision, recall, f1))"
   ]
  },
  {
   "cell_type": "markdown",
   "metadata": {},
   "source": [
    "### 7.3. 別のモデルの評価\n",
    "今度はパーセプトロンを3層にしたモデルを試してみましょう。"
   ]
  },
  {
   "cell_type": "code",
   "execution_count": null,
   "metadata": {
    "colab": {
     "base_uri": "https://localhost:8080/",
     "height": 90
    },
    "colab_type": "code",
    "id": "OI-PHYDpkdYY",
    "outputId": "d72299a9-2563-4733-b249-c1fc8b4489df"
   },
   "outputs": [],
   "source": [
    "model = tf.keras.models.Sequential([\n",
    "    tf.keras.layers.Dense(128, input_dim=train_xs.shape[1], activation='relu'),\n",
    "    tf.keras.layers.Dense(128, activation='relu'),\n",
    "    tf.keras.layers.Dense(1, activation='sigmoid')\n",
    "])"
   ]
  },
  {
   "cell_type": "code",
   "execution_count": null,
   "metadata": {},
   "outputs": [],
   "source": [
    "model.compile(optimizer='adam', loss='binary_crossentropy', metrics=['accuracy'])\n",
    "model.summary()"
   ]
  },
  {
   "cell_type": "code",
   "execution_count": null,
   "metadata": {
    "colab": {
     "base_uri": "https://localhost:8080/",
     "height": 4035
    },
    "colab_type": "code",
    "id": "xmNZQbg-kdYo",
    "outputId": "ee15fae6-39b6-4a89-ac30-a45556e0aa52"
   },
   "outputs": [],
   "source": [
    "hist = model.fit(train_xs, train_ys, batch_size=128, epochs=100, validation_data=(valid_xs, valid_ys))"
   ]
  },
  {
   "cell_type": "code",
   "execution_count": null,
   "metadata": {
    "colab": {
     "base_uri": "https://localhost:8080/",
     "height": 313
    },
    "colab_type": "code",
    "id": "PFR-o8vJkdYw",
    "outputId": "f78dfb1f-4b2e-4fa5-b06f-1a46b166d27a"
   },
   "outputs": [],
   "source": [
    "%matplotlib inline\n",
    "plt.figure(figsize=(12, 4))\n",
    "plt.subplot(1, 2, 1)\n",
    "plt.plot(range(1, 101), hist.history[\"loss\"])\n",
    "plt.plot(range(1, 101), hist.history[\"val_loss\"])\n",
    "plt.title(\"loss\")\n",
    "plt.xlabel(\"epoch\")\n",
    "plt.ylabel(\"loss\")\n",
    "plt.subplot(1, 2, 2)\n",
    "plt.plot(range(1, 101), hist.history[\"acc\"])\n",
    "plt.plot(range(1, 101), hist.history[\"val_acc\"])\n",
    "plt.title(\"accuracy\")\n",
    "plt.xlabel(\"epoch\")\n",
    "plt.ylabel(\"accuracy\")"
   ]
  },
  {
   "cell_type": "code",
   "execution_count": null,
   "metadata": {
    "colab": {},
    "colab_type": "code",
    "id": "JelU5jhWkdY5",
    "outputId": "2eaa615b-f6ce-48bd-fef2-86210c603eb7"
   },
   "outputs": [],
   "source": [
    "pred = model.predict_classes(test_xs, batch_size=128)\n",
    "accuracy = accuracy_score(test_ys, pred)\n",
    "precision = precision_score(test_ys, pred)\n",
    "recall = recall_score(test_ys, pred)\n",
    "f1 = f1_score(test_ys, pred)\n",
    "print(\"accuracy = {:.2f}, precision = {:.2f}, recall = {:.2f}, F1-score = {:.2f}\".format(accuracy, precision, recall, f1))"
   ]
  },
  {
   "cell_type": "markdown",
   "metadata": {
    "colab": {},
    "colab_type": "code",
    "id": "U8wsHfRekda2"
   },
   "source": [
    "## 8. 課題"
   ]
  },
  {
   "cell_type": "markdown",
   "metadata": {},
   "source": [
    " 1. 特徴量を年齢(\"age\")だけにしたときにどの程度の性能が出るか、試してみましょう。\n",
    " 1. 層数や各層のノード数を変えたモデルを作って試してみましょう。"
   ]
  }
 ],
 "metadata": {
  "accelerator": "GPU",
  "colab": {
   "collapsed_sections": [],
   "name": "workflow.ipynb",
   "provenance": [],
   "version": "0.3.2"
  },
  "kernelspec": {
   "display_name": "Python 3",
   "language": "python",
   "name": "python3"
  },
  "language_info": {
   "codemirror_mode": {
    "name": "ipython",
    "version": 3
   },
   "file_extension": ".py",
   "mimetype": "text/x-python",
   "name": "python",
   "nbconvert_exporter": "python",
   "pygments_lexer": "ipython3",
   "version": "3.6.7"
  }
 },
 "nbformat": 4,
 "nbformat_minor": 2
}
