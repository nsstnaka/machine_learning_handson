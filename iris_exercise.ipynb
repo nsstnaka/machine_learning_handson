{
  "nbformat": 4,
  "nbformat_minor": 0,
  "metadata": {
    "colab": {
      "name": "iris_exercise.ipynb",
      "version": "0.3.2",
      "provenance": [],
      "collapsed_sections": []
    },
    "kernelspec": {
      "name": "python3",
      "display_name": "Python 3"
    }
  },
  "cells": [
    {
      "cell_type": "markdown",
      "metadata": {
        "id": "bVgfmdyFvIHx",
        "colab_type": "text"
      },
      "source": [
        "# 機械学習ハンズオン　練習問題1：アヤメ分類\n",
        "\n",
        "[UCIのirisデータセット](https://archive.ics.uci.edu/ml/datasets/Iris)を使って、アヤメの分類をしましょう。\n",
        "\n",
        "アヤメの種類は次の3つに分類されます。\n",
        " * Iris-setosa\n",
        " * Iris-versicolor\n",
        " * Iris-virginica\n"
      ]
    },
    {
      "cell_type": "markdown",
      "metadata": {
        "id": "9RVJ9PZY1jZ2",
        "colab_type": "text"
      },
      "source": [
        "【課題】\n",
        "\n",
        " 1. 何種類かのモデルを作って学習させてください。\n",
        "    * 単層パーセプトロンモデル\n",
        "    * 多層パーセプトロン(MLP)モデル\n",
        "      * 層数やノード数をいろいろ変更して試してみてください。\n",
        "    * その他\n",
        " 1. エポックごとの損失、正答率をグラフで可視化してください。\n",
        " 1. 学習率をいろいろ変更して試してください。\n",
        "    * ヒント： `Model.compile()` に渡す `optimizer` 引数を変更します。"
      ]
    },
    {
      "cell_type": "code",
      "metadata": {
        "id": "VG1LNE4IbUuZ",
        "colab_type": "code",
        "colab": {}
      },
      "source": [
        "# ここで必要なimportを行ってください。\n",
        "import pandas as pd\n",
        "import tensorflow as tf\n",
        "import numpy as np\n",
        "import matplotlib.pyplot as plt\n",
        "import seaborn as sns\n",
        "from sklearn.model_selection import train_test_split\n",
        "from sklearn.preprocessing import MinMaxScaler, StandardScaler"
      ],
      "execution_count": 0,
      "outputs": []
    },
    {
      "cell_type": "code",
      "metadata": {
        "id": "skniqigCbhZ4",
        "colab_type": "code",
        "colab": {}
      },
      "source": [
        "# データセットファイルのURL\n",
        "dataset_url = 'https://archive.ics.uci.edu/ml/machine-learning-databases/iris/iris.data'"
      ],
      "execution_count": 0,
      "outputs": []
    }
  ]
}