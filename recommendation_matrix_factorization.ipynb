{
  "nbformat": 4,
  "nbformat_minor": 0,
  "metadata": {
    "kernelspec": {
      "display_name": "Python 3",
      "language": "python",
      "name": "python3"
    },
    "language_info": {
      "codemirror_mode": {
        "name": "ipython",
        "version": 3
      },
      "file_extension": ".py",
      "mimetype": "text/x-python",
      "name": "python",
      "nbconvert_exporter": "python",
      "pygments_lexer": "ipython3",
      "version": "3.7.4"
    },
    "colab": {
      "name": "recommendation_matrix_factorization.ipynb",
      "provenance": [],
      "collapsed_sections": [],
      "include_colab_link": true
    },
    "accelerator": "GPU"
  },
  "cells": [
    {
      "cell_type": "markdown",
      "metadata": {
        "id": "view-in-github",
        "colab_type": "text"
      },
      "source": [
        "<a href=\"https://colab.research.google.com/github/nsstnaka/machine_learning_handson/blob/master/recommendation_matrix_factorization.ipynb\" target=\"_parent\"><img src=\"https://colab.research.google.com/assets/colab-badge.svg\" alt=\"Open In Colab\"/></a>"
      ]
    },
    {
      "cell_type": "markdown",
      "metadata": {
        "id": "CkSJGJHuxwrh"
      },
      "source": [
        "# 機械学習ハンズオン（レコメンデーション）"
      ]
    },
    {
      "cell_type": "markdown",
      "metadata": {
        "id": "CDnyRIi1x4ma"
      },
      "source": [
        "## 1. ハンズオンの概要\n",
        "[Movielens](https://grouplens.org/datasets/movielens/)のデータセットを使って、行列分解(matrix factorization)によるレコメンデーションを実装します。"
      ]
    },
    {
      "cell_type": "code",
      "metadata": {
        "id": "vs-O7Y8uMV2m"
      },
      "source": [
        "import numpy as np\n",
        "import pandas as pd\n",
        "import tensorflow as tf\n",
        "from sklearn.model_selection import train_test_split"
      ],
      "execution_count": null,
      "outputs": []
    },
    {
      "cell_type": "markdown",
      "metadata": {
        "id": "5AiozBLY2dtR"
      },
      "source": [
        "## 2. データ取得"
      ]
    },
    {
      "cell_type": "markdown",
      "metadata": {
        "id": "-XCEvCdP3FLW"
      },
      "source": [
        "### 2.1. データのダウンロード・展開"
      ]
    },
    {
      "cell_type": "code",
      "metadata": {
        "id": "Vp5vjHIaMkRi"
      },
      "source": [
        "!wget -nc http://files.grouplens.org/datasets/movielens/ml-latest-small.zip\n",
        "!unzip -n ml-latest-small.zip"
      ],
      "execution_count": null,
      "outputs": []
    },
    {
      "cell_type": "markdown",
      "metadata": {
        "id": "nEiBoTs-3LAq"
      },
      "source": [
        "### 2.2. ファイル読込\n",
        "pandasを使ってファイルを読み込みます。タイムスタンプはUNIX時刻（1970年1月1日からの経過秒数）になっているので、datetime型に変換します。"
      ]
    },
    {
      "cell_type": "code",
      "metadata": {
        "id": "WbZd_V6HMV2u"
      },
      "source": [
        "rating_path = 'ml-latest-small/ratings.csv'\n",
        "rating_df = pd.read_csv(rating_path)\n",
        "rating_df['timestamp'] = pd.to_datetime(rating_df['timestamp'], unit='s')\n",
        "rating_df.head(10)"
      ],
      "execution_count": null,
      "outputs": []
    },
    {
      "cell_type": "markdown",
      "metadata": {
        "id": "u7PqiHcI3-m_"
      },
      "source": [
        "全レコード数を確認します。"
      ]
    },
    {
      "cell_type": "code",
      "metadata": {
        "id": "xLuQDXLg39Vi"
      },
      "source": [
        "len(rating_df)"
      ],
      "execution_count": null,
      "outputs": []
    },
    {
      "cell_type": "markdown",
      "metadata": {
        "id": "ceU5J33q2o-c"
      },
      "source": [
        "## 3. 前処理"
      ]
    },
    {
      "cell_type": "markdown",
      "metadata": {
        "id": "R0JH6q0B3x_1"
      },
      "source": [
        "### 3.1. IDの通し番号への変換"
      ]
    },
    {
      "cell_type": "markdown",
      "metadata": {
        "id": "i_vD3FQ85lId"
      },
      "source": [
        "ユーザーIDのユニーク数と最大値を確認します。"
      ]
    },
    {
      "cell_type": "code",
      "metadata": {
        "id": "A71lqWmBMV2z"
      },
      "source": [
        "max(rating_df['userId']), len(set(rating_df['userId']))"
      ],
      "execution_count": null,
      "outputs": []
    },
    {
      "cell_type": "markdown",
      "metadata": {
        "id": "vmF9x1NI5qYP"
      },
      "source": [
        "映画IDのユニーク数と最大値を確認します。"
      ]
    },
    {
      "cell_type": "code",
      "metadata": {
        "id": "crLhhNbLMV24"
      },
      "source": [
        "max(rating_df['movieId']), len(set(rating_df['movieId']))"
      ],
      "execution_count": null,
      "outputs": []
    },
    {
      "cell_type": "markdown",
      "metadata": {
        "id": "UR8raSns5yTw"
      },
      "source": [
        "IDと通し番号の対応付けをdictionary型で作成します。"
      ]
    },
    {
      "cell_type": "code",
      "metadata": {
        "id": "z9kiDOA-MV28"
      },
      "source": [
        "user_idx_dic = {user_id: idx for idx, user_id in enumerate(sorted(list(set(rating_df['userId']))))}\n",
        "movie_idx_dic = {movie_id: idx for idx, movie_id in enumerate(sorted(list(set(rating_df['movieId']))))}"
      ],
      "execution_count": null,
      "outputs": []
    },
    {
      "cell_type": "markdown",
      "metadata": {
        "id": "yLO5myse54FL"
      },
      "source": [
        "各レコードのユーザーと映画に通し番号を付与します。"
      ]
    },
    {
      "cell_type": "code",
      "metadata": {
        "id": "_DgVTrW1MV3A"
      },
      "source": [
        "rating_df['userIndex'] = rating_df['userId'].apply(lambda x: user_idx_dic[x])\n",
        "rating_df['movieIndex'] = rating_df['movieId'].apply(lambda x: movie_idx_dic[x])\n",
        "rating_df.head(10)"
      ],
      "execution_count": null,
      "outputs": []
    },
    {
      "cell_type": "markdown",
      "metadata": {
        "id": "jT-s0vUr590U"
      },
      "source": [
        "### 3.2. 不要な要素の除去\n",
        "ユーザーID、映画IDは不要になったので除去（ついでにタイムスタンプも使わないので除去）します。"
      ]
    },
    {
      "cell_type": "code",
      "metadata": {
        "id": "MNB1Lf-hMV3E"
      },
      "source": [
        "rating_df.drop(columns=['userId', 'movieId', 'timestamp'], inplace=True)\n",
        "rating_df.head(10)"
      ],
      "execution_count": null,
      "outputs": []
    },
    {
      "cell_type": "markdown",
      "metadata": {
        "id": "PCwQQJ7k7fLg"
      },
      "source": [
        "### 3.3. データ分割"
      ]
    },
    {
      "cell_type": "markdown",
      "metadata": {
        "id": "xZ4ceFFF6GET"
      },
      "source": [
        "データを訓練用とテスト用に分割します。"
      ]
    },
    {
      "cell_type": "code",
      "metadata": {
        "id": "e-85Bf-GMV3K"
      },
      "source": [
        "train_users, test_users, train_movies, test_movies, train_ratings, test_ratings =\\\n",
        "    train_test_split(rating_df['userIndex'].values, rating_df['movieIndex'].values, rating_df['rating'].values, test_size=0.2)"
      ],
      "execution_count": null,
      "outputs": []
    },
    {
      "cell_type": "markdown",
      "metadata": {
        "id": "PDwpPjKS7UGp"
      },
      "source": [
        "各データの件数を確認します。"
      ]
    },
    {
      "cell_type": "code",
      "metadata": {
        "id": "0MUCcnT6MV3O"
      },
      "source": [
        "len(train_users), len(train_movies), len(train_ratings), len(test_users), len(test_movies), len(test_ratings)"
      ],
      "execution_count": null,
      "outputs": []
    },
    {
      "cell_type": "markdown",
      "metadata": {
        "id": "s3dP7GQD2vPH"
      },
      "source": [
        "## 4. 学習"
      ]
    },
    {
      "cell_type": "markdown",
      "metadata": {
        "id": "Xyva2JfC7jGD"
      },
      "source": [
        "### 4.1. データセット生成\n",
        "訓練データを`tf.data.Dataset`に変換します。"
      ]
    },
    {
      "cell_type": "code",
      "metadata": {
        "id": "vCvSbg4TMV3T"
      },
      "source": [
        "batch_size = 128\n",
        "train_dataset = tf.data.Dataset.from_tensor_slices(((train_users, train_movies), train_ratings)).shuffle(len(train_users)).batch(batch_size)"
      ],
      "execution_count": null,
      "outputs": []
    },
    {
      "cell_type": "markdown",
      "metadata": {
        "id": "RTiJf5Xi703o"
      },
      "source": [
        "### 4.2. 学習モデル構築\n",
        "Kerasを使って学習モデルを組み立てていきます。"
      ]
    },
    {
      "cell_type": "markdown",
      "metadata": {
        "id": "RcA8UydJ7_UD"
      },
      "source": [
        "ユーザーベクトル$U$とアイテムベクトル$V$を定義します。ここではベクトルの次元数を50に設定します。"
      ]
    },
    {
      "cell_type": "code",
      "metadata": {
        "id": "kCKyhCuZMV3d"
      },
      "source": [
        "dim = 50\n",
        "user_embeddings = tf.keras.layers.Embedding(len(user_idx_dic), dim, name='user_embedding')\n",
        "movie_embeddings = tf.keras.layers.Embedding(len(movie_idx_dic), dim, name='movie_embedding')"
      ],
      "execution_count": null,
      "outputs": []
    },
    {
      "cell_type": "markdown",
      "metadata": {
        "id": "J6Now0md80gX"
      },
      "source": [
        "入力（ユーザーおよび映画の通し番号）をKerasの形式で定義します。"
      ]
    },
    {
      "cell_type": "code",
      "metadata": {
        "id": "m7lFirv9MV3h"
      },
      "source": [
        "input_user_indices = tf.keras.Input(shape=(1,), dtype='int32', name='user_input')\n",
        "input_movie_indices = tf.keras.Input(shape=(1,), dtype='int32', name='movie_input')"
      ],
      "execution_count": null,
      "outputs": []
    },
    {
      "cell_type": "markdown",
      "metadata": {
        "id": "BXiIIBoJ9G69"
      },
      "source": [
        "入力で渡されたユーザーおよび映画の通し番号を、それぞれベクトルに変換します。"
      ]
    },
    {
      "cell_type": "code",
      "metadata": {
        "id": "bBtPJLkQMV3k"
      },
      "source": [
        "user_emb = user_embeddings(input_user_indices)\n",
        "user_emb = tf.keras.layers.Flatten(name='user_emb_flatten')(user_emb)\n",
        "movie_emb = movie_embeddings(input_movie_indices)\n",
        "movie_emb = tf.keras.layers.Flatten(name='movie_emb_flatten')(movie_emb)"
      ],
      "execution_count": null,
      "outputs": []
    },
    {
      "cell_type": "markdown",
      "metadata": {
        "id": "_SsVhpa19Vs1"
      },
      "source": [
        "ユーザーのベクトルと映画のベクトルを掛け合わせて、レーティングの予測値を算出します。"
      ]
    },
    {
      "cell_type": "code",
      "metadata": {
        "id": "tfm1BlK89DqR"
      },
      "source": [
        "predicted_ratings = tf.keras.layers.dot([user_emb, movie_emb], axes=1, name='dot')"
      ],
      "execution_count": null,
      "outputs": []
    },
    {
      "cell_type": "markdown",
      "metadata": {
        "id": "SmyyBy0S92Io"
      },
      "source": [
        "上記の処理をモデル化します。"
      ]
    },
    {
      "cell_type": "code",
      "metadata": {
        "id": "tN0zisQ5MV3o"
      },
      "source": [
        "model = tf.keras.Model(inputs=[input_user_indices, input_movie_indices], outputs=predicted_ratings)"
      ],
      "execution_count": null,
      "outputs": []
    },
    {
      "cell_type": "markdown",
      "metadata": {
        "id": "ajHu6H6r9_gw"
      },
      "source": [
        "モデルをコンパイルします。\n",
        "\n",
        "損失関数には平均二乗誤差(Mean Squared Error)を採用します。\n",
        "$$\n",
        "MSE = \\frac{1}{m}\\sum^m_{k=1}{\\left(y_k-\\hat{y}_k\\right)^2}\n",
        "$$"
      ]
    },
    {
      "cell_type": "code",
      "metadata": {
        "id": "9phuSZ1AMV3r"
      },
      "source": [
        "model.compile(optimizer='adam', loss='mse', metrics=['mse', 'mae'])\n",
        "model.summary()"
      ],
      "execution_count": null,
      "outputs": []
    },
    {
      "cell_type": "markdown",
      "metadata": {
        "id": "9i0Q-xO8-EvK"
      },
      "source": [
        "早期終了を設定します。\n",
        "\n",
        "決められたエポック数の学習が終わらなくても、学習が収束した（損失が一定以上下がらなくなった）ところで学習を強制的に終了させます。"
      ]
    },
    {
      "cell_type": "code",
      "metadata": {
        "id": "mopUNHisMV3w"
      },
      "source": [
        "early_stopping = tf.keras.callbacks.EarlyStopping(monitor='loss', min_delta=0.001, patience=3)"
      ],
      "execution_count": null,
      "outputs": []
    },
    {
      "cell_type": "markdown",
      "metadata": {
        "id": "E2Z3ngmT-_x5"
      },
      "source": [
        "### 4.3. 学習実行\n",
        "訓練用のデータを最大200エポック学習させます。早期終了により、200エポックより手前で学習が止まる可能性があります。"
      ]
    },
    {
      "cell_type": "code",
      "metadata": {
        "id": "JHb1Axt0MV30"
      },
      "source": [
        "model.fit(train_dataset, epochs=200, callbacks=[early_stopping])"
      ],
      "execution_count": null,
      "outputs": []
    },
    {
      "cell_type": "markdown",
      "metadata": {
        "id": "ES6EfIQn28Yi"
      },
      "source": [
        "## 5. 評価\n",
        "\n",
        "テストデータにあるユーザーとアイテムを使って評価の予測を行い、実際の評価値との比較を試してみます。"
      ]
    },
    {
      "cell_type": "code",
      "metadata": {
        "id": "_zqkK2V1MV35"
      },
      "source": [
        "test_index = 1000\n",
        "predict_rating = np.squeeze(model.predict((np.array([test_users[test_index]]), np.array([test_movies[test_index]]))))\n",
        "actual_rating = test_ratings[test_index]\n",
        "print('predict={:.2f}, actual={:.1f}'.format(predict_rating, actual_rating))"
      ],
      "execution_count": null,
      "outputs": []
    }
  ]
}