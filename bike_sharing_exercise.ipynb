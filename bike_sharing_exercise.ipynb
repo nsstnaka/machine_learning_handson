{
  "nbformat": 4,
  "nbformat_minor": 0,
  "metadata": {
    "colab": {
      "name": "bike_sharing_exercise.ipynb",
      "version": "0.3.2",
      "provenance": [],
      "collapsed_sections": []
    },
    "kernelspec": {
      "name": "python3",
      "display_name": "Python 3"
    },
    "accelerator": "GPU"
  },
  "cells": [
    {
      "cell_type": "markdown",
      "metadata": {
        "id": "AM1EK0o_Q1kp",
        "colab_type": "text"
      },
      "source": [
        "# 機械学習ハンズオン　練習問題2：レンタル自転車の需要予測\n",
        "\n",
        "[UCIのbike sharingデータセット](https://archive.ics.uci.edu/ml/datasets/Bike+Sharing+Dataset)を使って、気象データなどからその日の自転車の貸出台数を予測します。\n"
      ]
    },
    {
      "cell_type": "markdown",
      "metadata": {
        "id": "u0ABL69cV9Dv",
        "colab_type": "text"
      },
      "source": [
        "【課題】\n",
        "\n",
        " 1. 貸出台数と相関がなさそうなデータはあるでしょうか？もしあれば、それらは学習させる特徴量から除外してください。\n",
        " 1. データどうしで相関が高いものはあるでしょうか？もしあれば、それらは一つの特徴量にまとめてください。\n",
        "\n",
        "【ヒント】\n",
        "\n",
        " * データどうしの相関を見るには、pandas.DataFrame.corr()とseaborn.heatmap()の併用が便利です。→[参考](https://note.nkmk.me/python-pandas-corr/)\n",
        " * [seaborn.pairplot()](https://seaborn.pydata.org/generated/seaborn.pairplot.html)も役に立ちます。\n",
        " * グラフのサイズを変えたいときは、[ここ](https://qiita.com/cnloni/items/20b5908fbae755192498#1-8-%E5%9B%B3%E3%81%AE%E3%82%B5%E3%82%A4%E3%82%BA%E3%82%92%E6%8C%87%E5%AE%9A%E3%81%97%E3%81%9F%E3%81%84)を参考にしてみてください。"
      ]
    },
    {
      "cell_type": "markdown",
      "metadata": {
        "id": "MWQc7e8_nhwh",
        "colab_type": "text"
      },
      "source": [
        "【注意点】\n",
        "\n",
        "`cnt`列は、`casual`列と`registered`列の合計です。したがって、`cnt`を予測する場合には、`casual`と`registered`は学習させる特徴量から外さなければなりません。"
      ]
    },
    {
      "cell_type": "markdown",
      "metadata": {
        "id": "HpuBAz06fz5A",
        "colab_type": "text"
      },
      "source": [
        "## 前準備"
      ]
    },
    {
      "cell_type": "code",
      "metadata": {
        "id": "lHBju_GQQU5Y",
        "colab_type": "code",
        "colab": {}
      },
      "source": [
        "# ここで必要なimportを行ってください。\n",
        "import pandas as pd\n",
        "import tensorflow as tf\n",
        "import numpy as np\n",
        "import matplotlib.pyplot as plt\n",
        "import seaborn as sns\n",
        "from sklearn.model_selection import train_test_split\n",
        "from sklearn.preprocessing import MinMaxScaler, StandardScaler"
      ],
      "execution_count": 0,
      "outputs": []
    },
    {
      "cell_type": "markdown",
      "metadata": {
        "id": "wUmKXKdHTI8-",
        "colab_type": "text"
      },
      "source": [
        "### データセットファイルの取得（zipの展開）"
      ]
    },
    {
      "cell_type": "code",
      "metadata": {
        "id": "qqciUmMGRuzO",
        "colab_type": "code",
        "outputId": "9dafa9e2-c0a4-41bc-8dd8-e6c2ceb26b2f",
        "colab": {
          "base_uri": "https://localhost:8080/",
          "height": 281
        }
      },
      "source": [
        "!wget https://archive.ics.uci.edu/ml/machine-learning-databases/00275/Bike-Sharing-Dataset.zip\n",
        "!unzip -o Bike-Sharing-Dataset.zip"
      ],
      "execution_count": 0,
      "outputs": [
        {
          "output_type": "stream",
          "text": [
            "--2019-07-21 08:38:08--  https://archive.ics.uci.edu/ml/machine-learning-databases/00275/Bike-Sharing-Dataset.zip\n",
            "Resolving archive.ics.uci.edu (archive.ics.uci.edu)... 128.195.10.252\n",
            "Connecting to archive.ics.uci.edu (archive.ics.uci.edu)|128.195.10.252|:443... connected.\n",
            "HTTP request sent, awaiting response... 200 OK\n",
            "Length: 279992 (273K) [application/x-httpd-php]\n",
            "Saving to: ‘Bike-Sharing-Dataset.zip’\n",
            "\n",
            "\rBike-Sharing-Datase   0%[                    ]       0  --.-KB/s               \rBike-Sharing-Datase  14%[=>                  ]  39.00K   150KB/s               \rBike-Sharing-Datase  70%[=============>      ] 194.00K   374KB/s               \rBike-Sharing-Datase 100%[===================>] 273.43K   526KB/s    in 0.5s    \n",
            "\n",
            "2019-07-21 08:38:10 (526 KB/s) - ‘Bike-Sharing-Dataset.zip’ saved [279992/279992]\n",
            "\n",
            "Archive:  Bike-Sharing-Dataset.zip\n",
            "  inflating: Readme.txt              \n",
            "  inflating: day.csv                 \n",
            "  inflating: hour.csv                \n"
          ],
          "name": "stdout"
        }
      ]
    },
    {
      "cell_type": "markdown",
      "metadata": {
        "id": "beHBPzKvWm5Q",
        "colab_type": "text"
      },
      "source": [
        "### データセットの読込み"
      ]
    },
    {
      "cell_type": "code",
      "metadata": {
        "id": "X_FM0rS8SsSA",
        "colab_type": "code",
        "colab": {}
      },
      "source": [
        "df = pd.read_csv('day.csv', sep=',', index_col=0)"
      ],
      "execution_count": 0,
      "outputs": []
    }
  ]
}