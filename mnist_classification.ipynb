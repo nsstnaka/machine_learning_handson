{
  "nbformat": 4,
  "nbformat_minor": 0,
  "metadata": {
    "colab": {
      "name": "mnist_classification.ipynb",
      "version": "0.3.2",
      "provenance": [],
      "collapsed_sections": []
    },
    "kernelspec": {
      "name": "python3",
      "display_name": "Python 3"
    },
    "accelerator": "GPU"
  },
  "cells": [
    {
      "metadata": {
        "id": "sAT_sUwsn65U",
        "colab_type": "text"
      },
      "cell_type": "markdown",
      "source": [
        "# 機械学習ハンズオン（MNIST画像分類編）"
      ]
    },
    {
      "metadata": {
        "id": "UKWZRMpFDgHY",
        "colab_type": "text"
      },
      "cell_type": "markdown",
      "source": [
        "【課題】 MNIST（手書き数字データセット）の画像を0～9の数字に分類しましょう。\n",
        "\n",
        "ここでは、次の3つの方法を試します。\n",
        " 1. 1層パーセプトロン\n",
        " 1. 多層（…と言っても2層）パーセプトロン\n",
        " 1. 2層の畳み込みニューラルネットワーク(CNN)"
      ]
    },
    {
      "metadata": {
        "id": "CmEt2huHDgG2",
        "colab_type": "text"
      },
      "cell_type": "markdown",
      "source": [
        "## 事前準備（最初に一度だけ実行してください）"
      ]
    },
    {
      "metadata": {
        "id": "sJj7xp4go0Pf",
        "colab_type": "text"
      },
      "cell_type": "markdown",
      "source": [
        "### ライブラリのロード\n",
        "Binderで実行する場合は、1行目のコメントアウトを外して実行してください。"
      ]
    },
    {
      "metadata": {
        "id": "dCmc-hTVDgG4",
        "colab_type": "code",
        "colab": {}
      },
      "cell_type": "code",
      "source": [
        "# !pip install tensorflow matplotlib\n",
        "import tensorflow as tf\n",
        "import matplotlib.pyplot as plt\n",
        "import numpy as np"
      ],
      "execution_count": 0,
      "outputs": []
    },
    {
      "metadata": {
        "id": "ZISaDLxgDgHG",
        "colab_type": "text"
      },
      "cell_type": "markdown",
      "source": [
        "### データセット(MNIST)の読み込み\n",
        "データをダウンロードします。\n",
        "データは訓練データとテストデータに分かれて取得されます。"
      ]
    },
    {
      "metadata": {
        "id": "Wd6-hEwYDgHH",
        "colab_type": "code",
        "colab": {}
      },
      "cell_type": "code",
      "source": [
        "mnist = tf.keras.datasets.mnist\n",
        "(x_train, y_train),(x_test, y_test) = mnist.load_data()"
      ],
      "execution_count": 0,
      "outputs": []
    },
    {
      "metadata": {
        "id": "SkvZyRV-DgHO",
        "colab_type": "text"
      },
      "cell_type": "markdown",
      "source": [
        "### データの正規化\n",
        "MNISTのデータは各ピクセルが0-255の値を持ったモノクロデータですが、機械学習の効率を上げるため、これを0.0-1.0の範囲になるように数値を調整します。\n",
        "\n",
        "（注意）ここを複数回実行すると、その分だけ値が小さくなってしまいます。"
      ]
    },
    {
      "metadata": {
        "id": "I4IrJZd4DgHP",
        "colab_type": "code",
        "colab": {}
      },
      "cell_type": "code",
      "source": [
        "x_train, x_test = x_train / 255.0, x_test / 255.0"
      ],
      "execution_count": 0,
      "outputs": []
    },
    {
      "metadata": {
        "id": "FOUVPs3OqH9a",
        "colab_type": "text"
      },
      "cell_type": "markdown",
      "source": [
        "調整後の画像データはこんな感じになります。"
      ]
    },
    {
      "metadata": {
        "id": "ecADAqK3DgHT",
        "colab_type": "code",
        "colab": {}
      },
      "cell_type": "code",
      "source": [
        "print(x_train[0])"
      ],
      "execution_count": 0,
      "outputs": []
    },
    {
      "metadata": {
        "id": "rnnck113DgHa",
        "colab_type": "text"
      },
      "cell_type": "markdown",
      "source": [
        "## 1層パーセプトロン\n",
        " * モデル\n",
        "  1. 28*28の配列をフラット化する。\n",
        "  2. 入力が784ノード、出力が10ノードの全結合層を作る。この層の出力をsoftmaxで確率に変換する。\n",
        " * 最適化\n",
        "  * Adamアルゴリズム\n",
        " * 損失\n",
        "  * 交差エントロピー"
      ]
    },
    {
      "metadata": {
        "id": "bqUbJ82VqUhN",
        "colab_type": "text"
      },
      "cell_type": "markdown",
      "source": [
        "### モデルの作成\n",
        "Kerasの学習モデルを作ります。"
      ]
    },
    {
      "metadata": {
        "id": "Z9Jlwgw5DgHb",
        "colab_type": "code",
        "colab": {}
      },
      "cell_type": "code",
      "source": [
        "model_slp = tf.keras.models.Sequential([\n",
        "  tf.keras.layers.Flatten(input_shape=(28, 28)),\n",
        "  tf.keras.layers.Dense(10, activation=tf.nn.softmax)\n",
        "])\n",
        "model_slp.compile(optimizer='adam',\n",
        "                  loss='sparse_categorical_crossentropy',\n",
        "                  metrics=['accuracy'])"
      ],
      "execution_count": 0,
      "outputs": []
    },
    {
      "metadata": {
        "id": "nz98aVJN1zRA",
        "colab_type": "code",
        "colab": {}
      },
      "cell_type": "code",
      "source": [
        "model_slp.summary()"
      ],
      "execution_count": 0,
      "outputs": []
    },
    {
      "metadata": {
        "id": "bxATCBgnqyrU",
        "colab_type": "text"
      },
      "cell_type": "markdown",
      "source": [
        "### モデルの学習\n",
        "モデルに訓練データを渡して学習します。"
      ]
    },
    {
      "metadata": {
        "id": "PgOsmlncq43l",
        "colab_type": "code",
        "colab": {}
      },
      "cell_type": "code",
      "source": [
        "model_slp.fit(x_train, y_train, epochs=5)"
      ],
      "execution_count": 0,
      "outputs": []
    },
    {
      "metadata": {
        "id": "EghvjYR0q8dC",
        "colab_type": "text"
      },
      "cell_type": "markdown",
      "source": [
        "### モデルの評価\n",
        "テストデータ（学習モデルにとっては未知のデータ）を使って、学習モデルを評価します。"
      ]
    },
    {
      "metadata": {
        "id": "_QBNma6ErivB",
        "colab_type": "code",
        "colab": {}
      },
      "cell_type": "code",
      "source": [
        "model_slp.evaluate(x_test, y_test)"
      ],
      "execution_count": 0,
      "outputs": []
    },
    {
      "metadata": {
        "id": "aS0TVN4hDgHh",
        "colab_type": "text"
      },
      "cell_type": "markdown",
      "source": [
        "## 多層パーセプトロン\n",
        " * モデル\n",
        "  1. 28*28の配列をフラット化する。\n",
        "  2. 入力が784ノード、出力が512ノードの全結合層を作る。この層の出力をReLUでアクティベーションする（要するに負の値を0に変換している）。\n",
        "  3. 過学習を防ぐためにドロップアウト層を作る。（全ノードの20%だけ残して後を無効にする）\n",
        "  4. 入力が512ノード、出力が10ノードの全結合層を作る。この層の出力をsoftmaxで確率に変換する。\n",
        " * 最適化\n",
        "  * 1層と同じ\n",
        " * 損失\n",
        "  * 1層と同じ"
      ]
    },
    {
      "metadata": {
        "id": "JceWmtyclzlg",
        "colab_type": "text"
      },
      "cell_type": "markdown",
      "source": [
        "### モデルの作成"
      ]
    },
    {
      "metadata": {
        "id": "5AUzGTqIDgHi",
        "colab_type": "code",
        "colab": {}
      },
      "cell_type": "code",
      "source": [
        "model_mlp = tf.keras.models.Sequential([\n",
        "  tf.keras.layers.Flatten(input_shape=(28, 28)),\n",
        "  tf.keras.layers.Dense(512, activation=tf.nn.relu),\n",
        "  tf.keras.layers.Dropout(0.2),\n",
        "  tf.keras.layers.Dense(10, activation=tf.nn.softmax)\n",
        "])\n",
        "model_mlp.compile(optimizer='adam',\n",
        "                  loss='sparse_categorical_crossentropy',\n",
        "                  metrics=['accuracy'])"
      ],
      "execution_count": 0,
      "outputs": []
    },
    {
      "metadata": {
        "id": "X0r72vAR1ukS",
        "colab_type": "code",
        "colab": {}
      },
      "cell_type": "code",
      "source": [
        "model_mlp.summary()"
      ],
      "execution_count": 0,
      "outputs": []
    },
    {
      "metadata": {
        "id": "dmdu8ImFluDf",
        "colab_type": "text"
      },
      "cell_type": "markdown",
      "source": [
        "### モデルの学習"
      ]
    },
    {
      "metadata": {
        "id": "ZEiut7D9l5SG",
        "colab_type": "code",
        "colab": {}
      },
      "cell_type": "code",
      "source": [
        "model_mlp.fit(x_train, y_train, epochs=5)"
      ],
      "execution_count": 0,
      "outputs": []
    },
    {
      "metadata": {
        "id": "jcBZEBXvl-d-",
        "colab_type": "text"
      },
      "cell_type": "markdown",
      "source": [
        "### モデルの評価"
      ]
    },
    {
      "metadata": {
        "id": "FqvnAwS4mA0H",
        "colab_type": "code",
        "colab": {}
      },
      "cell_type": "code",
      "source": [
        "model_mlp.evaluate(x_test, y_test)"
      ],
      "execution_count": 0,
      "outputs": []
    },
    {
      "metadata": {
        "id": "jbpk-MRPmFPZ",
        "colab_type": "text"
      },
      "cell_type": "markdown",
      "source": [
        "## 畳み込みニューラルネットワーク\n",
        "\n",
        " * モデル\n",
        "   1. 5x5のフィルターを32個作って畳み込みを行う。\n",
        "   1. 2x2で最大プーリングする。\n",
        "   1. さらに5x5のフィルターを64個作って畳み込みを行う。\n",
        "   1. さらに2x2で最大プーリングする。\n",
        "   1. いったんフラット化する。\n",
        "   1. 出力1024ノードの全結合層を作る。\n",
        "   1. 出力10ノードの全結合層を作る。この出力をsoftmaxで確率に変換する。"
      ]
    },
    {
      "metadata": {
        "id": "BFG2FHS8DgHq",
        "colab_type": "code",
        "colab": {}
      },
      "cell_type": "code",
      "source": [
        "model_cnn = tf.keras.models.Sequential([\n",
        "    tf.keras.layers.Conv2D(filters=32, kernel_size=[5, 5], padding='same', activation=tf.nn.relu),\n",
        "    tf.keras.layers.MaxPooling2D(pool_size=[2, 2], strides=[2, 2]),\n",
        "    tf.keras.layers.Conv2D(filters=64, kernel_size=[5, 5], padding='same', activation=tf.nn.relu),\n",
        "    tf.keras.layers.MaxPooling2D(pool_size=[2, 2], strides=[2, 2]),\n",
        "    tf.keras.layers.Flatten(),\n",
        "    tf.keras.layers.Dense(1024, activation=tf.nn.relu),\n",
        "    tf.keras.layers.Dense(10, activation=tf.nn.softmax)\n",
        "])\n",
        "model_cnn.compile(optimizer='adam',\n",
        "                  loss='sparse_categorical_crossentropy',\n",
        "                  metrics=['accuracy'])"
      ],
      "execution_count": 0,
      "outputs": []
    },
    {
      "metadata": {
        "id": "4R1Do1rTnXt3",
        "colab_type": "text"
      },
      "cell_type": "markdown",
      "source": [
        "### モデルの学習"
      ]
    },
    {
      "metadata": {
        "id": "DgekM3BOnSu4",
        "colab_type": "code",
        "colab": {}
      },
      "cell_type": "code",
      "source": [
        "x_train_cnn = x_train.reshape(x_train.shape[0], 28, 28, 1)\n",
        "model_cnn.fit(x_train_cnn, y_train, epochs=5)"
      ],
      "execution_count": 0,
      "outputs": []
    },
    {
      "metadata": {
        "id": "r_T6c6mX1Q8N",
        "colab_type": "code",
        "colab": {}
      },
      "cell_type": "code",
      "source": [
        "# もしここでエラーが出てしまったら、このセルを再実行するか、このセルを無視してください。\n",
        "model_cnn.summary()"
      ],
      "execution_count": 0,
      "outputs": []
    },
    {
      "metadata": {
        "id": "B6nwgtB1nnHV",
        "colab_type": "text"
      },
      "cell_type": "markdown",
      "source": [
        "### モデルの評価"
      ]
    },
    {
      "metadata": {
        "id": "tw1432S9DgHv",
        "colab_type": "code",
        "colab": {}
      },
      "cell_type": "code",
      "source": [
        "x_test_cnn = x_test.reshape(x_test.shape[0], 28, 28, 1)\n",
        "model_cnn.evaluate(x_test_cnn, y_test)"
      ],
      "execution_count": 0,
      "outputs": []
    }
  ]
}